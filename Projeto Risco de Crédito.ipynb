{
 "cells": [
  {
   "cell_type": "markdown",
   "id": "0c6459b1",
   "metadata": {},
   "source": [
    "# Classificação de Risco de Crédito\n",
    "______________________________________________________________________________________________________________________________\n",
    "• O banco Coderbank, enfrenta o desafio de aumentar a precisão na avaliação do risco de crédito para minimizar perdas e maximizar a rentabilidade. Para isso, busca-se em identificar quais clientes representam um risco de inadimplência mais elevado e ajustar as políticas de crédito de acordo com esses insights.\n",
    "\n",
    "• Para abordar este desafio, nossa equipe embarcou em um projeto de Data Science com o objetivo de analisar e prever a inadimplência de crédito utilizando o dataset German Credit. Nossa abordagem incluiu as seguintes etapas estratégicas:\n",
    "\n",
    "1. Aquisição de Dados: Utilizamos o dataset German Credit, uma fonte rica em informações demográficas e financeiras dos clientes.\n",
    "2. Data Wrangling: Realizamos um cuidadoso tratamento dos dados, incluindo a limpeza e a transformação das variáveis, para garantir a qualidade e a consistência necessárias para a análise.\n",
    "3. Análise Exploratória de Dados (EDA): Exploramos as relações entre as variáveis, identificando padrões e insights que orientaram a modelagem preditiva.\n",
    "4. Modelagem Preditiva: Desenvolvemos modelos de machine learning para prever a probabilidade de inadimplência de cada cliente.\n",
    "5. Interpretação e Ação: Traduzimos os resultados técnicos em recomendações práticas para a alta gerência, visando otimizar as políticas de concessão de crédito."
   ]
  },
  {
   "cell_type": "markdown",
   "id": "1d9b1fab",
   "metadata": {},
   "source": [
    "## • Objetivos do projeto\n",
    "_______________________________________________________________________________________________________________________________\n",
    "- Identificar quais fatores influenciam a inadimplência de clientes para melhorar a avaliação de risco de crédito.\n",
    "- Construir um modelo de previsão de inadimplência.\n",
    "- Identificar e compreender as principais variáveis que afetam a inadimplência.\n",
    "- Fornecer insights para a alta gerência sobre perfis de risco."
   ]
  },
  {
   "cell_type": "markdown",
   "id": "9a0abc73",
   "metadata": {},
   "source": [
    "## •  Fonte do Dataset e Critérios de Seleção (Data Acquisition) \n",
    "_______________________________________________________________________________________________________________________________\n",
    "- Fonte do Dataset: Kaggle - German Credit Data (https://www.kaggle.com/datasets/uciml/german-credit)\n",
    "- Critérios de Seleção:\n",
    "- Dataset contém informações detalhadas sobre clientes e histórico de crédito.\n",
    "- Disponibilidade de variáveis relevantes para a análise de risco de crédito."
   ]
  },
  {
   "cell_type": "markdown",
   "id": "cbe0832d",
   "metadata": {},
   "source": [
    "## • Descrição das variáveis utilizadas\n",
    "_______________________________________________________________________________________________________________________________\n",
    "- **idade**: Idade do cliente.\n",
    "- Tipo: Numérica.\n",
    "- Comportamento: Pode variar de jovens a idosos. Analisar a distribuição para identificar qualquer tendência em relação à inadimplência.\n",
    "- Importância: A idade pode influenciar a capacidade de pagamento, com diferentes faixas etárias apresentando diferentes perfis de risco."
   ]
  },
  {
   "cell_type": "markdown",
   "id": "02ce7cce",
   "metadata": {},
   "source": [
    "   - **sexo**: Sexo do cliente (0 - masculino, 1 - feminino).\n",
    "   - Tipo: Categórica.\n",
    "   - Comportamento: Pode mostrar diferenças no comportamento de crédito entre homens e mulheres.\n",
    "   - Importância: Pode ser relevante para identificar padrões específicos de inadimplência por gênero."
   ]
  },
  {
   "cell_type": "markdown",
   "id": "c1ad652d",
   "metadata": {},
   "source": [
    "- **trabalho**: Tipo de emprego (1 - trabalhador desqualificado, 2 - trabalhador qualificado, 3 - oficial, 4 - altamente qualificado).\n",
    "- Tipo: Categórica.\n",
    "- Comportamento: Diferentes tipos de emprego podem estar associados a diferentes níveis de estabilidade financeira.\n",
    "- Importância: Pode ajudar a entender como o tipo de emprego afeta a capacidade de pagamento"
   ]
  },
  {
   "cell_type": "markdown",
   "id": "38d7cc56",
   "metadata": {},
   "source": [
    "- **situação_de_moradia**: Situação de moradia do cliente (own - própria, rent - alugada, free - sem custo).\n",
    "- Tipo: Categórica.\n",
    "- Comportamento: Pode influenciar a capacidade de pagamento, pois quem possui casa própria pode ter mais estabilidade financeira.\n",
    "- Importância: Importante para entender a estabilidade financeira do cliente."
   ]
  },
  {
   "cell_type": "markdown",
   "id": "f7bcf884",
   "metadata": {},
   "source": [
    "- **poupança**: Nível de poupança do cliente (0 - little, 1 - moderate, 2 - quite rich, 3 - rich).\n",
    "- Tipo: Categórica.\n",
    "- Comportamento: Nível de poupança pode indicar a capacidade do cliente de lidar com emergências financeiras.\n",
    "- Importância: Crucial para avaliar a solvência do cliente."
   ]
  },
  {
   "cell_type": "markdown",
   "id": "be6c299b",
   "metadata": {},
   "source": [
    "   - **conta_corrente**: nível de conta corrente do cliente (0 - little, 1 - moderate, 2 - rich).\n",
    "   - Tipo: Categórica.\n",
    "   - Comportamento: Saldo da conta corrente pode indicar a liquidez do cliente.\n",
    "   - Importância: Importante para avaliar a liquidez imediata do cliente."
   ]
  },
  {
   "cell_type": "markdown",
   "id": "c8f52d6b",
   "metadata": {},
   "source": [
    "- **montante_de_crédito**: Montante de crédito.\n",
    "- Tipo: Numérica.\n",
    "- Comportamento: Varia amplamente. Importante analisar a distribuição para identificar faixas de valor mais comuns.\n",
    "- Importância: Diretamente relacionado ao risco, pois montantes maiores podem representar maior risco.\n",
    "   "
   ]
  },
  {
   "cell_type": "markdown",
   "id": "71330f5d",
   "metadata": {},
   "source": [
    "   - **duração**: Duração do crédito em meses.\n",
    "   - Tipo: Numérica.\n",
    "   - Comportamento: Períodos mais longos podem estar associados a maior risco devido à incerteza futura.\n",
    "   - Importância: Períodos de crédito mais longos geralmente apresentam maior risco de inadimplência."
   ]
  },
  {
   "cell_type": "markdown",
   "id": "3494643d",
   "metadata": {},
   "source": [
    "   - **finalidade**: Finalidade do crédito (car, furniture/equipment, radio/TV, domestic appliance, repairs, education, vacation, retraining, business, other).\n",
    "   - Tipo: Categórica.\n",
    "   - Comportamento: Diferentes finalidades podem ter diferentes níveis de risco.\n",
    "   - Importância: Pode ajudar a entender a motivação por trás do pedido de crédito e o risco associado."
   ]
  },
  {
   "cell_type": "markdown",
   "id": "46d3d95e",
   "metadata": {},
   "source": [
    "- **risco**: Classificação de risco do cliente (1 - good:bom, 0 - bad:ruim).\n",
    "- Tipo: Categórica.\n",
    "- Comportamento: Indica se o cliente é considerado um bom ou mau risco de crédito.\n",
    "- Importância: Variável alvo para a modelagem preditiva de inadimplência."
   ]
  },
  {
   "cell_type": "code",
   "execution_count": 1,
   "id": "396f3a13",
   "metadata": {},
   "outputs": [],
   "source": [
    "# importação das bibliotecas\n",
    "import pandas as pd\n",
    "import numpy as np\n",
    "import seaborn as sns\n",
    "import matplotlib.pyplot as plt\n",
    "%matplotlib inline\n",
    "from scipy.stats import norm "
   ]
  },
  {
   "cell_type": "code",
   "execution_count": 2,
   "id": "98962f49",
   "metadata": {},
   "outputs": [
    {
     "data": {
      "image/png": "[encoded data removed]",
      "text/plain": [
       "<Figure size 1200x150 with 1 Axes>"
      ]
     },
     "metadata": {},
     "output_type": "display_data"
    }
   ],
   "source": [
    "# Configurações de visualização\n",
    "plt.style.use('ggplot')\n",
    "plt.rcParams['axes.facecolor']      = 'white'\n",
    "plt.rcParams['grid.color']          = 'lightgray'\n",
    "plt.rcParams['xtick.color']         = 'black'\n",
    "plt.rcParams['ytick.color']         = 'black'\n",
    "plt.rcParams['axes.grid']           = True\n",
    "plt.rcParams['figure.dpi']          = 150\n",
    "\n",
    "# Definindo a paleta para visualizações\n",
    "instyle_palette = ['#1A1A1A', '#D1E500', '#333741', '#d3d6de', '#434450', '#e5f876', '#384155', '#292C3E']\n",
    "sns.set_palette(sns.color_palette(instyle_palette))\n",
    "sns.palplot(sns.color_palette(instyle_palette))"
   ]
  },
  {
   "cell_type": "code",
   "execution_count": 3,
   "id": "cc17f37a",
   "metadata": {},
   "outputs": [
    {
     "data": {
      "text/html": [
       "<div>\n",
       "<style scoped>\n",
       "    .dataframe tbody tr th:only-of-type {\n",
       "        vertical-align: middle;\n",
       "    }\n",
       "\n",
       "    .dataframe tbody tr th {\n",
       "        vertical-align: top;\n",
       "    }\n",
       "\n",
       "    .dataframe thead th {\n",
       "        text-align: right;\n",
       "    }\n",
       "</style>\n",
       "<table border=\"1\" class=\"dataframe\">\n",
       "  <thead>\n",
       "    <tr style=\"text-align: right;\">\n",
       "      <th></th>\n",
       "      <th>Unnamed: 0</th>\n",
       "      <th>Age</th>\n",
       "      <th>Sex</th>\n",
       "      <th>Job</th>\n",
       "      <th>Housing</th>\n",
       "      <th>Saving accounts</th>\n",
       "      <th>Checking account</th>\n",
       "      <th>Credit amount</th>\n",
       "      <th>Duration</th>\n",
       "      <th>Purpose</th>\n",
       "      <th>Risk</th>\n",
       "    </tr>\n",
       "  </thead>\n",
       "  <tbody>\n",
       "    <tr>\n",
       "      <th>0</th>\n",
       "      <td>0</td>\n",
       "      <td>67</td>\n",
       "      <td>male</td>\n",
       "      <td>2</td>\n",
       "      <td>own</td>\n",
       "      <td>NaN</td>\n",
       "      <td>little</td>\n",
       "      <td>1169</td>\n",
       "      <td>6</td>\n",
       "      <td>radio/TV</td>\n",
       "      <td>good</td>\n",
       "    </tr>\n",
       "    <tr>\n",
       "      <th>1</th>\n",
       "      <td>1</td>\n",
       "      <td>22</td>\n",
       "      <td>female</td>\n",
       "      <td>2</td>\n",
       "      <td>own</td>\n",
       "      <td>little</td>\n",
       "      <td>moderate</td>\n",
       "      <td>5951</td>\n",
       "      <td>48</td>\n",
       "      <td>radio/TV</td>\n",
       "      <td>bad</td>\n",
       "    </tr>\n",
       "    <tr>\n",
       "      <th>2</th>\n",
       "      <td>2</td>\n",
       "      <td>49</td>\n",
       "      <td>male</td>\n",
       "      <td>1</td>\n",
       "      <td>own</td>\n",
       "      <td>little</td>\n",
       "      <td>NaN</td>\n",
       "      <td>2096</td>\n",
       "      <td>12</td>\n",
       "      <td>education</td>\n",
       "      <td>good</td>\n",
       "    </tr>\n",
       "    <tr>\n",
       "      <th>3</th>\n",
       "      <td>3</td>\n",
       "      <td>45</td>\n",
       "      <td>male</td>\n",
       "      <td>2</td>\n",
       "      <td>free</td>\n",
       "      <td>little</td>\n",
       "      <td>little</td>\n",
       "      <td>7882</td>\n",
       "      <td>42</td>\n",
       "      <td>furniture/equipment</td>\n",
       "      <td>good</td>\n",
       "    </tr>\n",
       "    <tr>\n",
       "      <th>4</th>\n",
       "      <td>4</td>\n",
       "      <td>53</td>\n",
       "      <td>male</td>\n",
       "      <td>2</td>\n",
       "      <td>free</td>\n",
       "      <td>little</td>\n",
       "      <td>little</td>\n",
       "      <td>4870</td>\n",
       "      <td>24</td>\n",
       "      <td>car</td>\n",
       "      <td>bad</td>\n",
       "    </tr>\n",
       "    <tr>\n",
       "      <th>...</th>\n",
       "      <td>...</td>\n",
       "      <td>...</td>\n",
       "      <td>...</td>\n",
       "      <td>...</td>\n",
       "      <td>...</td>\n",
       "      <td>...</td>\n",
       "      <td>...</td>\n",
       "      <td>...</td>\n",
       "      <td>...</td>\n",
       "      <td>...</td>\n",
       "      <td>...</td>\n",
       "    </tr>\n",
       "    <tr>\n",
       "      <th>995</th>\n",
       "      <td>995</td>\n",
       "      <td>31</td>\n",
       "      <td>female</td>\n",
       "      <td>1</td>\n",
       "      <td>own</td>\n",
       "      <td>little</td>\n",
       "      <td>NaN</td>\n",
       "      <td>1736</td>\n",
       "      <td>12</td>\n",
       "      <td>furniture/equipment</td>\n",
       "      <td>good</td>\n",
       "    </tr>\n",
       "    <tr>\n",
       "      <th>996</th>\n",
       "      <td>996</td>\n",
       "      <td>40</td>\n",
       "      <td>male</td>\n",
       "      <td>3</td>\n",
       "      <td>own</td>\n",
       "      <td>little</td>\n",
       "      <td>little</td>\n",
       "      <td>3857</td>\n",
       "      <td>30</td>\n",
       "      <td>car</td>\n",
       "      <td>good</td>\n",
       "    </tr>\n",
       "    <tr>\n",
       "      <th>997</th>\n",
       "      <td>997</td>\n",
       "      <td>38</td>\n",
       "      <td>male</td>\n",
       "      <td>2</td>\n",
       "      <td>own</td>\n",
       "      <td>little</td>\n",
       "      <td>NaN</td>\n",
       "      <td>804</td>\n",
       "      <td>12</td>\n",
       "      <td>radio/TV</td>\n",
       "      <td>good</td>\n",
       "    </tr>\n",
       "    <tr>\n",
       "      <th>998</th>\n",
       "      <td>998</td>\n",
       "      <td>23</td>\n",
       "      <td>male</td>\n",
       "      <td>2</td>\n",
       "      <td>free</td>\n",
       "      <td>little</td>\n",
       "      <td>little</td>\n",
       "      <td>1845</td>\n",
       "      <td>45</td>\n",
       "      <td>radio/TV</td>\n",
       "      <td>bad</td>\n",
       "    </tr>\n",
       "    <tr>\n",
       "      <th>999</th>\n",
       "      <td>999</td>\n",
       "      <td>27</td>\n",
       "      <td>male</td>\n",
       "      <td>2</td>\n",
       "      <td>own</td>\n",
       "      <td>moderate</td>\n",
       "      <td>moderate</td>\n",
       "      <td>4576</td>\n",
       "      <td>45</td>\n",
       "      <td>car</td>\n",
       "      <td>good</td>\n",
       "    </tr>\n",
       "  </tbody>\n",
       "</table>\n",
       "<p>1000 rows × 11 columns</p>\n",
       "</div>"
      ],
      "text/plain": [
       "     Unnamed: 0  Age     Sex  Job Housing Saving accounts Checking account  \\\n",
       "0             0   67    male    2     own             NaN           little   \n",
       "1             1   22  female    2     own          little         moderate   \n",
       "2             2   49    male    1     own          little              NaN   \n",
       "3             3   45    male    2    free          little           little   \n",
       "4             4   53    male    2    free          little           little   \n",
       "..          ...  ...     ...  ...     ...             ...              ...   \n",
       "995         995   31  female    1     own          little              NaN   \n",
       "996         996   40    male    3     own          little           little   \n",
       "997         997   38    male    2     own          little              NaN   \n",
       "998         998   23    male    2    free          little           little   \n",
       "999         999   27    male    2     own        moderate         moderate   \n",
       "\n",
       "     Credit amount  Duration              Purpose  Risk  \n",
       "0             1169         6             radio/TV  good  \n",
       "1             5951        48             radio/TV   bad  \n",
       "2             2096        12            education  good  \n",
       "3             7882        42  furniture/equipment  good  \n",
       "4             4870        24                  car   bad  \n",
       "..             ...       ...                  ...   ...  \n",
       "995           1736        12  furniture/equipment  good  \n",
       "996           3857        30                  car  good  \n",
       "997            804        12             radio/TV  good  \n",
       "998           1845        45             radio/TV   bad  \n",
       "999           4576        45                  car  good  \n",
       "\n",
       "[1000 rows x 11 columns]"
      ]
     },
     "execution_count": 3,
     "metadata": {},
     "output_type": "execute_result"
    }
   ],
   "source": [
    "#leitura e visualização do dataset\n",
    "\n",
    "df = pd.read_csv(\"https://raw.githubusercontent.com/Andressaach/Risco-de-Credito/main/german_credit_data.csv\")\n",
    "df"
   ]
  },
  {
   "cell_type": "code",
   "execution_count": 4,
   "id": "6c6b09a3",
   "metadata": {},
   "outputs": [
    {
     "data": {
      "text/html": [
       "<div>\n",
       "<style scoped>\n",
       "    .dataframe tbody tr th:only-of-type {\n",
       "        vertical-align: middle;\n",
       "    }\n",
       "\n",
       "    .dataframe tbody tr th {\n",
       "        vertical-align: top;\n",
       "    }\n",
       "\n",
       "    .dataframe thead th {\n",
       "        text-align: right;\n",
       "    }\n",
       "</style>\n",
       "<table border=\"1\" class=\"dataframe\">\n",
       "  <thead>\n",
       "    <tr style=\"text-align: right;\">\n",
       "      <th></th>\n",
       "      <th>Age</th>\n",
       "      <th>Sex</th>\n",
       "      <th>Job</th>\n",
       "      <th>Housing</th>\n",
       "      <th>Saving accounts</th>\n",
       "      <th>Checking account</th>\n",
       "      <th>Credit amount</th>\n",
       "      <th>Duration</th>\n",
       "      <th>Purpose</th>\n",
       "      <th>Risk</th>\n",
       "    </tr>\n",
       "  </thead>\n",
       "  <tbody>\n",
       "    <tr>\n",
       "      <th>0</th>\n",
       "      <td>67</td>\n",
       "      <td>male</td>\n",
       "      <td>2</td>\n",
       "      <td>own</td>\n",
       "      <td>NaN</td>\n",
       "      <td>little</td>\n",
       "      <td>1169</td>\n",
       "      <td>6</td>\n",
       "      <td>radio/TV</td>\n",
       "      <td>good</td>\n",
       "    </tr>\n",
       "    <tr>\n",
       "      <th>1</th>\n",
       "      <td>22</td>\n",
       "      <td>female</td>\n",
       "      <td>2</td>\n",
       "      <td>own</td>\n",
       "      <td>little</td>\n",
       "      <td>moderate</td>\n",
       "      <td>5951</td>\n",
       "      <td>48</td>\n",
       "      <td>radio/TV</td>\n",
       "      <td>bad</td>\n",
       "    </tr>\n",
       "    <tr>\n",
       "      <th>2</th>\n",
       "      <td>49</td>\n",
       "      <td>male</td>\n",
       "      <td>1</td>\n",
       "      <td>own</td>\n",
       "      <td>little</td>\n",
       "      <td>NaN</td>\n",
       "      <td>2096</td>\n",
       "      <td>12</td>\n",
       "      <td>education</td>\n",
       "      <td>good</td>\n",
       "    </tr>\n",
       "    <tr>\n",
       "      <th>3</th>\n",
       "      <td>45</td>\n",
       "      <td>male</td>\n",
       "      <td>2</td>\n",
       "      <td>free</td>\n",
       "      <td>little</td>\n",
       "      <td>little</td>\n",
       "      <td>7882</td>\n",
       "      <td>42</td>\n",
       "      <td>furniture/equipment</td>\n",
       "      <td>good</td>\n",
       "    </tr>\n",
       "    <tr>\n",
       "      <th>4</th>\n",
       "      <td>53</td>\n",
       "      <td>male</td>\n",
       "      <td>2</td>\n",
       "      <td>free</td>\n",
       "      <td>little</td>\n",
       "      <td>little</td>\n",
       "      <td>4870</td>\n",
       "      <td>24</td>\n",
       "      <td>car</td>\n",
       "      <td>bad</td>\n",
       "    </tr>\n",
       "  </tbody>\n",
       "</table>\n",
       "</div>"
      ],
      "text/plain": [
       "   Age     Sex  Job Housing Saving accounts Checking account  Credit amount  \\\n",
       "0   67    male    2     own             NaN           little           1169   \n",
       "1   22  female    2     own          little         moderate           5951   \n",
       "2   49    male    1     own          little              NaN           2096   \n",
       "3   45    male    2    free          little           little           7882   \n",
       "4   53    male    2    free          little           little           4870   \n",
       "\n",
       "   Duration              Purpose  Risk  \n",
       "0         6             radio/TV  good  \n",
       "1        48             radio/TV   bad  \n",
       "2        12            education  good  \n",
       "3        42  furniture/equipment  good  \n",
       "4        24                  car   bad  "
      ]
     },
     "execution_count": 4,
     "metadata": {},
     "output_type": "execute_result"
    }
   ],
   "source": [
    "#remover a coluna \"Unnamed: 0\"\n",
    "df = df.drop([\"Unnamed: 0\"], axis=\"columns\")\n",
    "df.head()"
   ]
  },
  {
   "cell_type": "code",
   "execution_count": 5,
   "id": "2aec91cb",
   "metadata": {},
   "outputs": [
    {
     "data": {
      "text/html": [
       "<div>\n",
       "<style scoped>\n",
       "    .dataframe tbody tr th:only-of-type {\n",
       "        vertical-align: middle;\n",
       "    }\n",
       "\n",
       "    .dataframe tbody tr th {\n",
       "        vertical-align: top;\n",
       "    }\n",
       "\n",
       "    .dataframe thead th {\n",
       "        text-align: right;\n",
       "    }\n",
       "</style>\n",
       "<table border=\"1\" class=\"dataframe\">\n",
       "  <thead>\n",
       "    <tr style=\"text-align: right;\">\n",
       "      <th></th>\n",
       "      <th>idade</th>\n",
       "      <th>sexo</th>\n",
       "      <th>trabalho</th>\n",
       "      <th>situação_de_moradia</th>\n",
       "      <th>poupança</th>\n",
       "      <th>conta_corrente</th>\n",
       "      <th>montante_de_crédito</th>\n",
       "      <th>duração</th>\n",
       "      <th>finalidade</th>\n",
       "      <th>risco</th>\n",
       "    </tr>\n",
       "  </thead>\n",
       "  <tbody>\n",
       "    <tr>\n",
       "      <th>0</th>\n",
       "      <td>67</td>\n",
       "      <td>male</td>\n",
       "      <td>2</td>\n",
       "      <td>own</td>\n",
       "      <td>NaN</td>\n",
       "      <td>little</td>\n",
       "      <td>1169</td>\n",
       "      <td>6</td>\n",
       "      <td>radio/TV</td>\n",
       "      <td>good</td>\n",
       "    </tr>\n",
       "    <tr>\n",
       "      <th>1</th>\n",
       "      <td>22</td>\n",
       "      <td>female</td>\n",
       "      <td>2</td>\n",
       "      <td>own</td>\n",
       "      <td>little</td>\n",
       "      <td>moderate</td>\n",
       "      <td>5951</td>\n",
       "      <td>48</td>\n",
       "      <td>radio/TV</td>\n",
       "      <td>bad</td>\n",
       "    </tr>\n",
       "    <tr>\n",
       "      <th>2</th>\n",
       "      <td>49</td>\n",
       "      <td>male</td>\n",
       "      <td>1</td>\n",
       "      <td>own</td>\n",
       "      <td>little</td>\n",
       "      <td>NaN</td>\n",
       "      <td>2096</td>\n",
       "      <td>12</td>\n",
       "      <td>education</td>\n",
       "      <td>good</td>\n",
       "    </tr>\n",
       "    <tr>\n",
       "      <th>3</th>\n",
       "      <td>45</td>\n",
       "      <td>male</td>\n",
       "      <td>2</td>\n",
       "      <td>free</td>\n",
       "      <td>little</td>\n",
       "      <td>little</td>\n",
       "      <td>7882</td>\n",
       "      <td>42</td>\n",
       "      <td>furniture/equipment</td>\n",
       "      <td>good</td>\n",
       "    </tr>\n",
       "    <tr>\n",
       "      <th>4</th>\n",
       "      <td>53</td>\n",
       "      <td>male</td>\n",
       "      <td>2</td>\n",
       "      <td>free</td>\n",
       "      <td>little</td>\n",
       "      <td>little</td>\n",
       "      <td>4870</td>\n",
       "      <td>24</td>\n",
       "      <td>car</td>\n",
       "      <td>bad</td>\n",
       "    </tr>\n",
       "    <tr>\n",
       "      <th>...</th>\n",
       "      <td>...</td>\n",
       "      <td>...</td>\n",
       "      <td>...</td>\n",
       "      <td>...</td>\n",
       "      <td>...</td>\n",
       "      <td>...</td>\n",
       "      <td>...</td>\n",
       "      <td>...</td>\n",
       "      <td>...</td>\n",
       "      <td>...</td>\n",
       "    </tr>\n",
       "    <tr>\n",
       "      <th>995</th>\n",
       "      <td>31</td>\n",
       "      <td>female</td>\n",
       "      <td>1</td>\n",
       "      <td>own</td>\n",
       "      <td>little</td>\n",
       "      <td>NaN</td>\n",
       "      <td>1736</td>\n",
       "      <td>12</td>\n",
       "      <td>furniture/equipment</td>\n",
       "      <td>good</td>\n",
       "    </tr>\n",
       "    <tr>\n",
       "      <th>996</th>\n",
       "      <td>40</td>\n",
       "      <td>male</td>\n",
       "      <td>3</td>\n",
       "      <td>own</td>\n",
       "      <td>little</td>\n",
       "      <td>little</td>\n",
       "      <td>3857</td>\n",
       "      <td>30</td>\n",
       "      <td>car</td>\n",
       "      <td>good</td>\n",
       "    </tr>\n",
       "    <tr>\n",
       "      <th>997</th>\n",
       "      <td>38</td>\n",
       "      <td>male</td>\n",
       "      <td>2</td>\n",
       "      <td>own</td>\n",
       "      <td>little</td>\n",
       "      <td>NaN</td>\n",
       "      <td>804</td>\n",
       "      <td>12</td>\n",
       "      <td>radio/TV</td>\n",
       "      <td>good</td>\n",
       "    </tr>\n",
       "    <tr>\n",
       "      <th>998</th>\n",
       "      <td>23</td>\n",
       "      <td>male</td>\n",
       "      <td>2</td>\n",
       "      <td>free</td>\n",
       "      <td>little</td>\n",
       "      <td>little</td>\n",
       "      <td>1845</td>\n",
       "      <td>45</td>\n",
       "      <td>radio/TV</td>\n",
       "      <td>bad</td>\n",
       "    </tr>\n",
       "    <tr>\n",
       "      <th>999</th>\n",
       "      <td>27</td>\n",
       "      <td>male</td>\n",
       "      <td>2</td>\n",
       "      <td>own</td>\n",
       "      <td>moderate</td>\n",
       "      <td>moderate</td>\n",
       "      <td>4576</td>\n",
       "      <td>45</td>\n",
       "      <td>car</td>\n",
       "      <td>good</td>\n",
       "    </tr>\n",
       "  </tbody>\n",
       "</table>\n",
       "<p>1000 rows × 10 columns</p>\n",
       "</div>"
      ],
      "text/plain": [
       "     idade    sexo  trabalho situação_de_moradia  poupança conta_corrente  \\\n",
       "0       67    male         2                 own       NaN         little   \n",
       "1       22  female         2                 own    little       moderate   \n",
       "2       49    male         1                 own    little            NaN   \n",
       "3       45    male         2                free    little         little   \n",
       "4       53    male         2                free    little         little   \n",
       "..     ...     ...       ...                 ...       ...            ...   \n",
       "995     31  female         1                 own    little            NaN   \n",
       "996     40    male         3                 own    little         little   \n",
       "997     38    male         2                 own    little            NaN   \n",
       "998     23    male         2                free    little         little   \n",
       "999     27    male         2                 own  moderate       moderate   \n",
       "\n",
       "     montante_de_crédito  duração           finalidade risco  \n",
       "0                   1169        6             radio/TV  good  \n",
       "1                   5951       48             radio/TV   bad  \n",
       "2                   2096       12            education  good  \n",
       "3                   7882       42  furniture/equipment  good  \n",
       "4                   4870       24                  car   bad  \n",
       "..                   ...      ...                  ...   ...  \n",
       "995                 1736       12  furniture/equipment  good  \n",
       "996                 3857       30                  car  good  \n",
       "997                  804       12             radio/TV  good  \n",
       "998                 1845       45             radio/TV   bad  \n",
       "999                 4576       45                  car  good  \n",
       "\n",
       "[1000 rows x 10 columns]"
      ]
     },
     "execution_count": 5,
     "metadata": {},
     "output_type": "execute_result"
    }
   ],
   "source": [
    "#Traduzir colunas para o português\n",
    "\n",
    "traducao_colunas = {\n",
    "    'Age': 'idade',\n",
    "    'Sex': 'sexo',\n",
    "    'Job': 'trabalho',\n",
    "    'Housing': 'situação_de_moradia',\n",
    "    'Saving accounts': 'poupança',\n",
    "    'Checking account': 'conta_corrente',\n",
    "    'Credit amount': 'montante_de_crédito',\n",
    "    'Duration': 'duração',\n",
    "    'Purpose': 'finalidade',\n",
    "    'Risk': 'risco'\n",
    "}\n",
    "\n",
    "df.rename(columns=traducao_colunas, inplace=True)\n",
    "df"
   ]
  },
  {
   "cell_type": "code",
   "execution_count": 6,
   "id": "3bc73a18",
   "metadata": {},
   "outputs": [
    {
     "name": "stdout",
     "output_type": "stream",
     "text": [
      "<class 'pandas.core.frame.DataFrame'>\n",
      "RangeIndex: 1000 entries, 0 to 999\n",
      "Data columns (total 10 columns):\n",
      " #   Column               Non-Null Count  Dtype \n",
      "---  ------               --------------  ----- \n",
      " 0   idade                1000 non-null   int64 \n",
      " 1   sexo                 1000 non-null   object\n",
      " 2   trabalho             1000 non-null   int64 \n",
      " 3   situação_de_moradia  1000 non-null   object\n",
      " 4   poupança             817 non-null    object\n",
      " 5   conta_corrente       606 non-null    object\n",
      " 6   montante_de_crédito  1000 non-null   int64 \n",
      " 7   duração              1000 non-null   int64 \n",
      " 8   finalidade           1000 non-null   object\n",
      " 9   risco                1000 non-null   object\n",
      "dtypes: int64(4), object(6)\n",
      "memory usage: 78.3+ KB\n"
     ]
    }
   ],
   "source": [
    "#verificando informações do dataset\n",
    "df.info()"
   ]
  },
  {
   "cell_type": "code",
   "execution_count": 7,
   "id": "99fe88fb",
   "metadata": {},
   "outputs": [
    {
     "ename": "KeyError",
     "evalue": "\"None of [Index(['Saving accounts', 'Checking account'], dtype='object')] are in the [columns]\"",
     "output_type": "error",
     "traceback": [
      "\u001b[1;31m---------------------------------------------------------------------------\u001b[0m",
      "\u001b[1;31mKeyError\u001b[0m                                  Traceback (most recent call last)",
      "Cell \u001b[1;32mIn[7], line 6\u001b[0m\n\u001b[0;32m      3\u001b[0m \u001b[38;5;28;01mfrom\u001b[39;00m \u001b[38;5;21;01msklearn\u001b[39;00m\u001b[38;5;21;01m.\u001b[39;00m\u001b[38;5;21;01mimpute\u001b[39;00m \u001b[38;5;28;01mimport\u001b[39;00m SimpleImputer\n\u001b[0;32m      5\u001b[0m imputer \u001b[38;5;241m=\u001b[39m SimpleImputer(strategy\u001b[38;5;241m=\u001b[39m\u001b[38;5;124m'\u001b[39m\u001b[38;5;124mmost_frequent\u001b[39m\u001b[38;5;124m'\u001b[39m)\n\u001b[1;32m----> 6\u001b[0m df[[\u001b[38;5;124m'\u001b[39m\u001b[38;5;124mSaving accounts\u001b[39m\u001b[38;5;124m'\u001b[39m, \u001b[38;5;124m'\u001b[39m\u001b[38;5;124mChecking account\u001b[39m\u001b[38;5;124m'\u001b[39m]] \u001b[38;5;241m=\u001b[39m imputer\u001b[38;5;241m.\u001b[39mfit_transform(df[[\u001b[38;5;124m'\u001b[39m\u001b[38;5;124mSaving accounts\u001b[39m\u001b[38;5;124m'\u001b[39m, \u001b[38;5;124m'\u001b[39m\u001b[38;5;124mChecking account\u001b[39m\u001b[38;5;124m'\u001b[39m]])\n\u001b[0;32m      7\u001b[0m df\n",
      "File \u001b[1;32m~\\miniconda3\\envs\\meu_env\\Lib\\site-packages\\pandas\\core\\frame.py:4096\u001b[0m, in \u001b[0;36mDataFrame.__getitem__\u001b[1;34m(self, key)\u001b[0m\n\u001b[0;32m   4094\u001b[0m     \u001b[38;5;28;01mif\u001b[39;00m is_iterator(key):\n\u001b[0;32m   4095\u001b[0m         key \u001b[38;5;241m=\u001b[39m \u001b[38;5;28mlist\u001b[39m(key)\n\u001b[1;32m-> 4096\u001b[0m     indexer \u001b[38;5;241m=\u001b[39m \u001b[38;5;28mself\u001b[39m\u001b[38;5;241m.\u001b[39mcolumns\u001b[38;5;241m.\u001b[39m_get_indexer_strict(key, \u001b[38;5;124m\"\u001b[39m\u001b[38;5;124mcolumns\u001b[39m\u001b[38;5;124m\"\u001b[39m)[\u001b[38;5;241m1\u001b[39m]\n\u001b[0;32m   4098\u001b[0m \u001b[38;5;66;03m# take() does not accept boolean indexers\u001b[39;00m\n\u001b[0;32m   4099\u001b[0m \u001b[38;5;28;01mif\u001b[39;00m \u001b[38;5;28mgetattr\u001b[39m(indexer, \u001b[38;5;124m\"\u001b[39m\u001b[38;5;124mdtype\u001b[39m\u001b[38;5;124m\"\u001b[39m, \u001b[38;5;28;01mNone\u001b[39;00m) \u001b[38;5;241m==\u001b[39m \u001b[38;5;28mbool\u001b[39m:\n",
      "File \u001b[1;32m~\\miniconda3\\envs\\meu_env\\Lib\\site-packages\\pandas\\core\\indexes\\base.py:6200\u001b[0m, in \u001b[0;36mIndex._get_indexer_strict\u001b[1;34m(self, key, axis_name)\u001b[0m\n\u001b[0;32m   6197\u001b[0m \u001b[38;5;28;01melse\u001b[39;00m:\n\u001b[0;32m   6198\u001b[0m     keyarr, indexer, new_indexer \u001b[38;5;241m=\u001b[39m \u001b[38;5;28mself\u001b[39m\u001b[38;5;241m.\u001b[39m_reindex_non_unique(keyarr)\n\u001b[1;32m-> 6200\u001b[0m \u001b[38;5;28mself\u001b[39m\u001b[38;5;241m.\u001b[39m_raise_if_missing(keyarr, indexer, axis_name)\n\u001b[0;32m   6202\u001b[0m keyarr \u001b[38;5;241m=\u001b[39m \u001b[38;5;28mself\u001b[39m\u001b[38;5;241m.\u001b[39mtake(indexer)\n\u001b[0;32m   6203\u001b[0m \u001b[38;5;28;01mif\u001b[39;00m \u001b[38;5;28misinstance\u001b[39m(key, Index):\n\u001b[0;32m   6204\u001b[0m     \u001b[38;5;66;03m# GH 42790 - Preserve name from an Index\u001b[39;00m\n",
      "File \u001b[1;32m~\\miniconda3\\envs\\meu_env\\Lib\\site-packages\\pandas\\core\\indexes\\base.py:6249\u001b[0m, in \u001b[0;36mIndex._raise_if_missing\u001b[1;34m(self, key, indexer, axis_name)\u001b[0m\n\u001b[0;32m   6247\u001b[0m \u001b[38;5;28;01mif\u001b[39;00m nmissing:\n\u001b[0;32m   6248\u001b[0m     \u001b[38;5;28;01mif\u001b[39;00m nmissing \u001b[38;5;241m==\u001b[39m \u001b[38;5;28mlen\u001b[39m(indexer):\n\u001b[1;32m-> 6249\u001b[0m         \u001b[38;5;28;01mraise\u001b[39;00m \u001b[38;5;167;01mKeyError\u001b[39;00m(\u001b[38;5;124mf\u001b[39m\u001b[38;5;124m\"\u001b[39m\u001b[38;5;124mNone of [\u001b[39m\u001b[38;5;132;01m{\u001b[39;00mkey\u001b[38;5;132;01m}\u001b[39;00m\u001b[38;5;124m] are in the [\u001b[39m\u001b[38;5;132;01m{\u001b[39;00maxis_name\u001b[38;5;132;01m}\u001b[39;00m\u001b[38;5;124m]\u001b[39m\u001b[38;5;124m\"\u001b[39m)\n\u001b[0;32m   6251\u001b[0m     not_found \u001b[38;5;241m=\u001b[39m \u001b[38;5;28mlist\u001b[39m(ensure_index(key)[missing_mask\u001b[38;5;241m.\u001b[39mnonzero()[\u001b[38;5;241m0\u001b[39m]]\u001b[38;5;241m.\u001b[39munique())\n\u001b[0;32m   6252\u001b[0m     \u001b[38;5;28;01mraise\u001b[39;00m \u001b[38;5;167;01mKeyError\u001b[39;00m(\u001b[38;5;124mf\u001b[39m\u001b[38;5;124m\"\u001b[39m\u001b[38;5;132;01m{\u001b[39;00mnot_found\u001b[38;5;132;01m}\u001b[39;00m\u001b[38;5;124m not in index\u001b[39m\u001b[38;5;124m\"\u001b[39m)\n",
      "\u001b[1;31mKeyError\u001b[0m: \"None of [Index(['Saving accounts', 'Checking account'], dtype='object')] are in the [columns]\""
     ]
    }
   ],
   "source": [
    "#tratando os valores ausentes com imputação \"most_frequent\"\n",
    "\n",
    "from sklearn.impute import SimpleImputer\n",
    "\n",
    "imputer = SimpleImputer(strategy='most_frequent')\n",
    "df[['Saving accounts', 'Checking account']] = imputer.fit_transform(df[['Saving accounts', 'Checking account']])\n",
    "df"
   ]
  },
  {
   "cell_type": "code",
   "execution_count": null,
   "id": "93e74767",
   "metadata": {},
   "outputs": [],
   "source": [
    "print(df.describe())"
   ]
  },
  {
   "cell_type": "markdown",
   "id": "8b59135c",
   "metadata": {},
   "source": [
    "# Análise Exploratória de Dados (EDA)"
   ]
  },
  {
   "cell_type": "markdown",
   "id": "6b486869",
   "metadata": {},
   "source": [
    "## Análise Univariada"
   ]
  },
  {
   "cell_type": "markdown",
   "id": "bb1caa03",
   "metadata": {},
   "source": [
    " - A análise univariada de variáveis numéricas e categóricas tem como principal objetivo entender e resumir as características fundamentais de cada variável individualmente."
   ]
  },
  {
   "cell_type": "code",
   "execution_count": null,
   "id": "411316e8",
   "metadata": {},
   "outputs": [],
   "source": [
    "#Plotar histogramas para verificar a distribuição das variáveis numéricas\n",
    "\n",
    "#analisando a distribuição da variável \"idade\"\n",
    "plt.figure(figsize=(6,4))\n",
    "ax = sns.distplot(df['idade'],\n",
    "                  fit=norm,\n",
    "                  kde=True)\n",
    "ax.set_xlabel('Idade')\n",
    "ax.set_title('Distribuição de Idade')"
   ]
  },
  {
   "cell_type": "markdown",
   "id": "0886a94b",
   "metadata": {},
   "source": [
    "### •  Distribuição da variável 'idade'"
   ]
  },
  {
   "cell_type": "markdown",
   "id": "86b57445",
   "metadata": {},
   "source": [
    "- Distribuição: A distribuição de idade apresenta uma forma assimétrica à direita\n",
    "- A maioria dos clientes está na faixa de 21 a 40 anos, seguida pela faixa de 41 a 60 anos.\n",
    "- Frequência: 0-20 anos: 10%; 21-40 anos: 50%; 41-60 anos: 40%\n",
    "- Percepção: A faixa etária predominante para empréstimos é de adultos jovens e meia-idade, sugerindo uma maior necessidade de crédito nessa fase da vida."
   ]
  },
  {
   "cell_type": "code",
   "execution_count": null,
   "id": "6f54208b",
   "metadata": {},
   "outputs": [],
   "source": [
    "#analisando a distribuição da variável \"montante_de_crédito\"\n",
    "plt.figure(figsize=(6,4))\n",
    "ax = sns.distplot(df['montante_de_crédito'],\n",
    "                  fit=norm,\n",
    "                  kde=True)\n",
    "ax.set_xlabel('montante de crédito')\n",
    "ax.set_title('Distribuição de Montante de Crédito')"
   ]
  },
  {
   "cell_type": "markdown",
   "id": "b4e458e2",
   "metadata": {},
   "source": [
    "### •  Distribuição da variável 'montante de crédito'"
   ]
  },
  {
   "cell_type": "markdown",
   "id": "1c813dd5",
   "metadata": {},
   "source": [
    " - Distribuição: Esta variável também é assimétrica à direita, indicando que a maioria dos empréstimos está na faixa de crédito mais baixa, com um número significativo na faixa média e menos na faixa alta.\n",
    "- Faixa de montante de crédito: Baixo: 50%; Médio: 30%; Alto: 20%\n",
    "- Dispersão: A distribuição se estende até 20.000, mas a densidade é muito baixa para valores acima de 10.000.\n",
    "- Percepção: A maioria dos clientes pede empréstimos de valores menores, possivelmente para necessidades imediatas ou moderadas"
   ]
  },
  {
   "cell_type": "code",
   "execution_count": null,
   "id": "1a780b06",
   "metadata": {},
   "outputs": [],
   "source": [
    "#analisando a distribuição da variável \"duration\"\n",
    "plt.figure(figsize=(6,4))\n",
    "ax = sns.distplot(df['duração'],\n",
    "                  fit=norm,\n",
    "                  kde=True)\n",
    "ax.set_xlabel('Duração')\n",
    "ax.set_title('Distribuição de Duração do Crédito')"
   ]
  },
  {
   "cell_type": "markdown",
   "id": "85d402f7",
   "metadata": {},
   "source": [
    "### •  Distribuição da variável 'duração'"
   ]
  },
  {
   "cell_type": "markdown",
   "id": "05536b25",
   "metadata": {},
   "source": [
    "- Distribuição: A distribuição da duração do crédito é multimodal, indicando múltiplos picos de frequência. Existem picos notáveis em torno de 12, 18, 24, e 30 meses, sugerindo que estas são durações comuns para créditos.\n",
    "- A maioria dos empréstimos tem duração média, seguida por durações curtas e menos empréstimos de longa duração.\n",
    "- Percepção: Os clientes preferem empréstimos com durações moderadas, talvez para equilibrar entre o valor do empréstimo e a capacidade de pagamento.\n",
    "- Faixa de duração: Curta: 30%; Média: 50%; Longa: 20%."
   ]
  },
  {
   "cell_type": "code",
   "execution_count": null,
   "id": "7aee8acd",
   "metadata": {},
   "outputs": [],
   "source": [
    "# Análise univariada das variáveis categóricas\n",
    "\n",
    "#criando a função plotar para variáveis categóricas\n",
    "def univariate_categorical_analysis(df):\n",
    "    # Iterar por todas as colunas do DataFrame\n",
    "    for column in df.columns:\n",
    "        # Verificar se a coluna é categórica\n",
    "        if df[column].dtype == 'object' or df[column].dtype.name == 'category':\n",
    "            # Calcular a contagem e a proporção de cada categoria\n",
    "            counts = df[column].value_counts()\n",
    "            proportions = df[column].value_counts(normalize=True)\n",
    "            \n",
    "            # Criar um DataFrame para exibir os resultados\n",
    "            analysis_df = pd.DataFrame({column: counts.index, 'Count': counts.values, 'Proportion': proportions.values})\n",
    "            \n",
    "            print(\"Análise Univariada da Variável Categórica '{}':\".format(column))\n",
    "            print(analysis_df)\n",
    "            \n",
    "            # Plotar o gráfico de barras\n",
    "            plt.figure(figsize=(10, 6))\n",
    "            sns.barplot(x=counts.index, y=counts.values)\n",
    "            plt.title(f'Distribuição de {column}')\n",
    "            plt.xlabel('Categoria')\n",
    "            plt.ylabel('Contagem')\n",
    "            plt.xticks(rotation=45)\n",
    "            plt.show()\n",
    "\n",
    "#aplicar a função\n",
    "univariate_categorical_analysis(df)"
   ]
  },
  {
   "cell_type": "markdown",
   "id": "e4cb2d88",
   "metadata": {},
   "source": [
    "### •   Distribuição das variáveis categóricas"
   ]
  },
  {
   "cell_type": "markdown",
   "id": "cf65ceb3",
   "metadata": {},
   "source": [
    "**Distribuição da variável \"sexo\":**\n",
    "- A população masculina é significativamente maior do que a feminina no conjunto de dados, com quase o dobro de homens em comparação às mulheres.\n",
    "- Percepção: isso sugere que há um desbalanceamento de classes na amostra para a variável \"sexo\".\n",
    "- masculino: 69%; feminino: 31%."
   ]
  },
  {
   "cell_type": "markdown",
   "id": "167eb8f6",
   "metadata": {},
   "source": [
    "**Distribuição da variável \"situação de moradia\":**\n",
    "\n",
    "- A maioria dos indivíduos é proprietária da sua moradia.\n",
    "- Menos pessoas vivem em imóveis alugados ou gratuitos, com uma diferença significativa em relação aos proprietários.\n",
    "- Situação de moradia: própria: 71.3%; alugada: 17.9%; grátis: 10.8%."
   ]
  },
  {
   "cell_type": "markdown",
   "id": "69959072",
   "metadata": {},
   "source": [
    "**Distribuição da variável \"poupança\":** \n",
    "- A maioria dos clientes tem pouca ou nenhuma poupança.\n",
    "- Percepção: Muitos clientes podem estar recorrendo a empréstimos devido à falta de poupança suficiente.\n",
    "- Status de poupança: Pouca: 78.6%; Moderada: 10.3%; Muito rico: 6.3%; Rico: 4.8%"
   ]
  },
  {
   "cell_type": "markdown",
   "id": "18e7da55",
   "metadata": {},
   "source": [
    "**Distribuição da variáve \"conta_corrente\":**\n",
    "- A maioria dos clientes possui pouca ou nenhuma conta corrente.\n",
    "- Percepção: Isso pode indicar uma baixa liquidez imediata, justificando a necessidade de empréstimos.\n",
    "- Status da conta corrente: baixa: 66,8%; Moderada: 26,9%; Rica: 6,3%."
   ]
  },
  {
   "cell_type": "markdown",
   "id": "a7f2ef69",
   "metadata": {},
   "source": [
    "**Distribuição da variável \"finalidade\":**\n",
    "- Carros são a principal finalidade para os empréstimos, seguidos por rádio/TV e móveis/equipamentos.\n",
    "- Finalidades como educação, reparos, eletrodomésticos e férias/outros são menos populares.\n",
    "- Finalidade do crédito: carro: 33,7%; rádio/TV: 28%; móveis/equipamentos: 18.1%; negócios: 9.7%; educação: 5.9%; reparos: 22%; eletrodomésticos: 12%; férias/outros: 12%.\n"
   ]
  },
  {
   "cell_type": "markdown",
   "id": "65215893",
   "metadata": {},
   "source": [
    "**Distribuição da variável \"risco\":** \n",
    "\n",
    "- A distribuição da variável \"Risco\" está desbalanceada, com uma predominância de observações na categoria \"bom\" em relação \"a categoria \"ruim\". \n",
    "- Isso pode indicar que, no contexto de risco avaliado, a maioria dos casos são classificados como de baixo risco.\n",
    "- Risco: bom: 70%; ruim: 30%."
   ]
  },
  {
   "cell_type": "markdown",
   "id": "a9c6c22a",
   "metadata": {},
   "source": [
    "## Análise Bivariada "
   ]
  },
  {
   "cell_type": "markdown",
   "id": "004843c6",
   "metadata": {},
   "source": [
    "A análise bivariada ajuda a identificar relações significativas entre variáveis que podem não ser evidentes em uma análise univariada, além de detectar padrões e tendências que indicam comportamentos de risco. \n",
    "A compreensão das relações bivariadas melhora a eficácia dos modelos preditivos de risco de crédito, fornecendo insights, como a identificação de variáveis altamente correlacionadas."
   ]
  },
  {
   "cell_type": "code",
   "execution_count": null,
   "id": "289ddd6e",
   "metadata": {},
   "outputs": [],
   "source": [
    "#heatmap de correlação para variáveis numéricas\n",
    "\n",
    "# Selecionar apenas as variáveis do tipo int64\n",
    "df_num = df.select_dtypes(include=['int64'])\n",
    "\n",
    "# Calcular a matriz de correlação\n",
    "corr = df_num.corr()\n",
    "\n",
    "# Plotar o heatmap da matriz de correlação\n",
    "plt.figure(figsize=(6, 4))\n",
    "sns.heatmap(corr, annot=True, fmt=\".2f\")\n",
    "plt.title('Heatmap de correlações para as variáveis numéricas')\n",
    "plt.show()\n"
   ]
  },
  {
   "cell_type": "markdown",
   "id": "a78ec8fd",
   "metadata": {},
   "source": [
    "**Heatmap de Correlações para variáveis numéricas**\n",
    "- Há uma correlação moderada entre as variáveis \"montante de crédito\" e \"duração\"\n",
    "- Isso sugere , indicando que conforme a duração aumenta, o montante de crédito tende a aumentar de maneira significativa."
   ]
  },
  {
   "cell_type": "code",
   "execution_count": null,
   "id": "2b40ca6b",
   "metadata": {},
   "outputs": [],
   "source": [
    "# Gráfico de Barras Agrupadas para \"risco\" em relação a \"sexo\"\n",
    "sns.countplot(x='risco', hue='sexo', data=df)\n",
    "plt.title('Risco vs Sexo')\n",
    "plt.xlabel('Risco')\n",
    "plt.ylabel('Quantidade')\n",
    "plt.show()"
   ]
  },
  {
   "cell_type": "markdown",
   "id": "49513e06",
   "metadata": {},
   "source": [
    "**Risco vs Sexo:**\n",
    "\n",
    "- A maior parte dos homens são classificados como risco \"bom\".\n",
    "- No entanto para a categoria \"ruim\" a proporção de indivíduos do sexo \"masculino\" também é maior em relação ao sexo \"feminino\", porém, um pouco mais equilibrada.\n",
    "- Isso pode indicar que, entre os homens, há uma maior proporção de casos de baixo risco em comparação às mulheres. No entanto, vale ressaltar que há uma predominância de indivíduos do sexo masculino na amostra analisada."
   ]
  },
  {
   "cell_type": "code",
   "execution_count": null,
   "id": "6df600ef",
   "metadata": {},
   "outputs": [],
   "source": [
    "# Violin Plot para \"risco\" em relação a \"montante_de_crédito\"\n",
    "sns.violinplot(x='risco', y='montante_de_crédito', data=df)\n",
    "plt.title('Risco vs Montante de Crédito')\n",
    "plt.xlabel('Risco')\n",
    "plt.ylabel('Montante de Crédito')\n",
    "plt.show()"
   ]
  },
  {
   "cell_type": "markdown",
   "id": "3fd3c482",
   "metadata": {},
   "source": [
    "**Risco vs Montante de Crédito:**\n",
    "\n",
    "- Pessoas na categoria de risco \"ruim\" tendem a ter montantes de crédito mais altos.\n",
    "- A maior variabilidade na categoria \"ruim\" pode indicar uma maior incerteza ou risco associado a créditos mais altos.\n",
    "- A distribuição mais concentrada na categoria \"bom\" sugere que créditos menores estão mais associados a perfis de baixo risco."
   ]
  },
  {
   "cell_type": "code",
   "execution_count": null,
   "id": "a3704391",
   "metadata": {},
   "outputs": [],
   "source": [
    "# Boxplot entre situação_de_moradia e montante_de_crédito\n",
    "sns.boxplot(x='situação_de_moradia', y='montante_de_crédito', data=df)\n",
    "plt.title('Situação de Moradia vs Montante de Crédito')\n",
    "plt.xlabel('Situação de Moradia')\n",
    "plt.ylabel('Montante de Crédito')\n",
    "plt.show()"
   ]
  },
  {
   "cell_type": "markdown",
   "id": "2881e0a1",
   "metadata": {},
   "source": [
    "**Situação de Moradia vs Montante de Crédito:**\n",
    "\n",
    "- Situação de moradia (própria): A mediana do montante de crédito para quem possui a própria casa é mais baixa (cerca de 2500), com menos variabilidade e alguns outliers acima de 12500.\n",
    "- Situação de moradia (grátis): A mediana é significativamente maior (cerca de 5000), indicando que pessoas sem custo de moradia tendem a solicitar montantes de crédito mais altos. A variabilidade é também maior, com outliers que chegam a 15000 e além.\n",
    "- Situação de moradia (alugada): Similar a \"própria\" em termos de mediana (cerca de 2500), mas com menos outliers extremos.\n",
    "- **Conclusão**: A situação de moradia influencia no montante de crédito solicitado, com quem não tem custo de moradia solicitando, em média, montantes mais altos."
   ]
  },
  {
   "cell_type": "code",
   "execution_count": null,
   "id": "bd51f08e",
   "metadata": {},
   "outputs": [],
   "source": [
    "# Gráfico de Dispersão (Scatter Plot) entre Idade e Valor do Crédito\n",
    "sns.scatterplot(x='idade', y='montante_de_crédito', data=df)\n",
    "plt.title('Idade vs Montante de Crédito')\n",
    "plt.xlabel('Idade')\n",
    "plt.ylabel('Montante de Crédito')\n",
    "plt.show()"
   ]
  },
  {
   "cell_type": "markdown",
   "id": "901c5962",
   "metadata": {},
   "source": [
    "**Idade vs Montante de Crédito:**\n",
    "\n",
    "- Distribuição Geral: Há uma concentração de dados em faixas etárias mais jovens (20-40 anos) e em montantes menores (0-5000).\n",
    "- Tendência: Observa-se uma dispersão significativa, mas não uma clara correlação entre idade e montante de crédito. Há uma concentração maior em montantes baixos e faixas etárias mais jovens"
   ]
  },
  {
   "cell_type": "markdown",
   "id": "879243a5",
   "metadata": {},
   "source": [
    "## Análise Multivariada"
   ]
  },
  {
   "cell_type": "markdown",
   "id": "74a91266",
   "metadata": {},
   "source": [
    "- A análise multivariada é crucial na análise de risco de crédito pois permite a avaliação simultânea de múltiplas variáveis, revelando como elas interagem e afetam conjuntamente o comportamento de crédito dos clientes. Ela permite captar interações complexas entre diversas variáveis, possibilitando a identificação de padrões de risco que não são evidentes ao analisar variáveis de forma isolada. "
   ]
  },
  {
   "cell_type": "code",
   "execution_count": null,
   "id": "9a0f7011",
   "metadata": {},
   "outputs": [],
   "source": [
    "# Boxplot do status de poupança em relação à idade\n",
    "plt.figure(figsize=(10, 6))\n",
    "sns.boxplot(x='poupança', y='idade', data=df)\n",
    "plt.title('Boxplot do Status de Poupança em Relação à Idade')\n",
    "plt.xlabel('Status de Poupança')\n",
    "plt.ylabel('Idade')\n",
    "plt.xticks(rotation=45)\n",
    "plt.show()"
   ]
  },
  {
   "cell_type": "markdown",
   "id": "09dc8fb2",
   "metadata": {},
   "source": [
    "**Boxplot do Status de Poupança em Relação à Idade:**\n",
    "\n",
    "- A análise sugere que pessoas com status de poupança \"baixa\" possuem uma maior variabilidade de idades, com muitos indivíduos mais velhos possivelmente com menos poupança.\n",
    "- Indivíduos classificados como \"muito rico\" e \"rico\" tendem a estar na faixa dos 30-50 anos.\n",
    "- O status de poupança \"moderada\" apresenta uma distribuição de idade mais jovem comparativamente a \"muito rico\" e \"rico\"."
   ]
  },
  {
   "cell_type": "code",
   "execution_count": null,
   "id": "f27d5297",
   "metadata": {},
   "outputs": [],
   "source": [
    "# Gráfico de barras empilhadas para finalidade do crédito em relação ao sexo\n",
    "purpose_sex = df.groupby(['finalidade', 'sexo']).size().unstack()\n",
    "purpose_sex.plot(kind='bar', stacked=True, figsize=(10, 6))\n",
    "plt.title('Finalidade do Empréstimo por Sexo')\n",
    "plt.xlabel('Finalidade do Empréstimo')\n",
    "plt.ylabel('Contagem')\n",
    "plt.xticks(rotation=45)\n",
    "plt.legend(title='Sexo')\n",
    "plt.show()"
   ]
  },
  {
   "cell_type": "markdown",
   "id": "28dd1974",
   "metadata": {},
   "source": [
    "**Propóstio do empréstimo por sexo**\n",
    "\n",
    "- Homens tomam mais empréstimos em quase todas as categorias. (muito provavelmente isso está realacionado com a predominância de indivíduos do sexo masculino em realção ao sexo feminino na amostra analisada).\n",
    "- \"Carros\" e itens de \"rádio/TV\" são os propósitos mais comuns para ambos os sexos.\n",
    "- As categorias \"Educação\" e \"consertos\" como finalidade do crédito têm uma distribuição relativamente mais equilibrada entre homens e mulheres."
   ]
  },
  {
   "cell_type": "code",
   "execution_count": null,
   "id": "87e0210c",
   "metadata": {},
   "outputs": [],
   "source": [
    "# Gráfico de dispersão entre idade e montante de crédito em relação ao risco\n",
    "plt.figure(figsize=(10, 6))\n",
    "sns.scatterplot(x='idade', y='montante_de_crédito', data=df, hue='risco')\n",
    "plt.title('Dispersão entre Idade e Montante de Crédito por Risco')\n",
    "plt.xlabel('Idade')\n",
    "plt.ylabel('Montante de Crédito')\n",
    "plt.legend(title='Risco')\n",
    "plt.show()"
   ]
  },
  {
   "cell_type": "markdown",
   "id": "74457593",
   "metadata": {},
   "source": [
    "**Dispersão entre Idade e Montante de Crédito por Risco**:\n",
    "\n",
    "- Distribuição Geral: A maioria dos pontos se concentra na faixa de idade de 20 a 60 anos e no montante de crédito de 0 a 5000.\n",
    "- Créditos Bons (pontos pretos): Estão distribuídos ao longo de todas as idades e montantes, mas tendem a se concentrar em montantes menores.\n",
    "- Créditos Ruins (pontos amarelos): Também estão espalhados, mas parecem mais presentes em faixas de crédito mais altas e em idades variáveis.\n",
    "- Tendência: Não há uma tendência clara e forte que relacione idade com montante de crédito especificamente associada ao risco. No entanto, observa-se uma maior variabilidade de montante de crédito em faixas etárias mais jovens."
   ]
  },
  {
   "cell_type": "markdown",
   "id": "548a575e",
   "metadata": {},
   "source": [
    "## Pré processamento dos dados para a modelagem"
   ]
  },
  {
   "cell_type": "markdown",
   "id": "1b71cf7a",
   "metadata": {},
   "source": [
    "A etapa de pré-processamento dos dados é essencial para garantir que o modelo de análise de risco de crédito funcione de forma eficiente, precisa e robusta. Ele melhora a qualidade dos dados, reduz a complexidade e o ruído, e prepara o terreno para a construção de modelos mais precisos e generalizáveis, aumentando a eficácia das previsões e a confiança nas decisões baseadas nesses modelos."
   ]
  },
  {
   "cell_type": "code",
   "execution_count": null,
   "id": "50971455",
   "metadata": {},
   "outputs": [],
   "source": [
    "# Codificar as variáveis (com ordem de grandeza) utilizando Ordinal Encoder.\n",
    "\n",
    "from sklearn.preprocessing import OrdinalEncoder\n",
    "\n",
    "# Definir a ordem das categorias\n",
    "poupanca_order = ['little', 'moderate', 'quite rich', 'rich']\n",
    "conta_corrente_order = ['little', 'moderate', 'rich']\n",
    "\n",
    "# Inicializar o OrdinalEncoder com as categorias ordenadas\n",
    "ordinal_encoder = OrdinalEncoder(categories=[poupanca_order, conta_corrente_order])\n",
    "\n",
    "# Aplicar o OrdinalEncoder para as colunas 'Poupança', 'Conta corrente' e \"situação_de_moradia\"\n",
    "encoded_columns = ordinal_encoder.fit_transform(df[['poupança', 'conta_corrente']])\n",
    "\n",
    "# Convertendo os valores codificados para inteiros\n",
    "df[['poupança_encoded', 'conta_corrente_encoded']] = encoded_columns.astype(int)\n",
    "\n",
    "# Remover as colunas originais\n",
    "df.drop(['poupança', 'conta_corrente'], axis=1, inplace=True)\n",
    "\n",
    "# Verificar o resultado\n",
    "df.head()"
   ]
  },
  {
   "cell_type": "code",
   "execution_count": null,
   "id": "b7eda1cc",
   "metadata": {
    "scrolled": true
   },
   "outputs": [],
   "source": [
    "# transformar as variáveis categóricas (sem ordem de grandeza) em variáveis dummy\n",
    "df = pd.get_dummies(df, columns=['risco','sexo', 'situação_de_moradia', 'finalidade'])\n",
    "df"
   ]
  },
  {
   "cell_type": "code",
   "execution_count": null,
   "id": "c6cfdcc7",
   "metadata": {},
   "outputs": [],
   "source": [
    "# excluir um dos atributos para cada categoria (binária) a fim de reduzir multicolinearidade\n",
    "\n",
    "columns_to_drop = ['risco_bad', 'sexo_male', 'situação_de_moradia_free', 'finalidade_vacation/others']\n",
    "df = df.drop(columns=columns_to_drop)\n",
    "df"
   ]
  },
  {
   "cell_type": "code",
   "execution_count": null,
   "id": "552e155a",
   "metadata": {},
   "outputs": [],
   "source": [
    "#codificar as colunas com variáveis dummy\n",
    "\n",
    "columns_to_encode = ['risco_good', 'sexo_female', 'situação_de_moradia_own', 'situação_de_moradia_rent', 'finalidade_business', \n",
    "                     'finalidade_car', 'finalidade_domestic appliances', 'finalidade_education', 'finalidade_furniture/equipment',\n",
    "                     'finalidade_radio/TV', 'finalidade_repairs']\n",
    "\n",
    "# Aplicar one-hot encoding para as colunas especificadas\n",
    "for col in columns_to_encode:\n",
    "    df[col + '_encoded'] = df[col].astype(int)\n",
    "    df.drop(col, axis=1, inplace=True)\n",
    "df"
   ]
  },
  {
   "cell_type": "code",
   "execution_count": null,
   "id": "a9a2aea4",
   "metadata": {},
   "outputs": [],
   "source": [
    "#Traduzir colunas para o português\n",
    "\n",
    "traducao_colunas = {\n",
    "    'poupança_encoded': 'poupança',\n",
    "    'conta_corrente_encoded': 'conta_corrente',\n",
    "    'risco_good_encoded': 'risco',\n",
    "    'sexo_female_encoded': 'sexo',\n",
    "    'situação_de_moradia_own_encoded': 'moradia_própria',\n",
    "    'situação_de_moradia_rent_encoded': 'moradia_alugada',\n",
    "    'finalidade_business_encoded': 'finalidade_negócio',\n",
    "    'finalidade_car_encoded': 'finalidade_carro',\n",
    "    'finalidade_domestic appliances_encoded': 'finalidade_eletrodomésticos',\n",
    "    'finalidade_education_encoded': 'finalidade_educação',\n",
    "    'finalidade_furniture/equipment_encoded': 'finalidade_móveis/equipamentos',\n",
    "    'finalidade_radio/TV_encoded': 'finalidade_rádio/TV',\n",
    "    'finalidade_repairs_encoded': 'finalidade_reparos',\n",
    "}\n",
    "\n",
    "df.rename(columns=traducao_colunas, inplace=True)\n",
    "df"
   ]
  },
  {
   "cell_type": "markdown",
   "id": "d2cc58c4",
   "metadata": {},
   "source": [
    "- Aplicar o balanceamento de classes da variável \"risco\" utilizando a técnica over-sampling SMOTE que consiste em gerar novos exemplos sintéticos da classe minoritária, para evitar que o modelo seja tendencioso para a classe majoritária.\n",
    "- Métodos simples de over-sampling, como replicar aleatoriamente exemplos da classe minoritária, podem levar a overfitting.\n",
    "- O SMOTE cria novos exemplos sintéticos da classe minoritária ao invés de simplesmente replicar exemplos existentes. Isso é feito gerando novas instâncias que são combinações lineares de pares de exemplos existentes na classe minoritária.\n",
    "\n",
    "https://imbalanced-learn.org/stable/references/generated/imblearn.over_sampling.SMOTE.html"
   ]
  },
  {
   "cell_type": "code",
   "execution_count": null,
   "id": "8fab41b3",
   "metadata": {},
   "outputs": [],
   "source": [
    "from imblearn.over_sampling import SMOTE\n",
    "\n",
    "#Separar os dados em veriável target ('risco') e variáveis explicativas (features)\n",
    "X = df.drop('risco', axis = 1)\n",
    "y = df['risco']\n",
    "\n",
    "smt = SMOTE(random_state=123)\n",
    "X, y = smt.fit_resample(X, y)\n",
    "\n",
    "#junção dos dados balanceados\n",
    "df = pd.concat([X, y], axis=1)\n",
    "\n",
    "#verificação após o balanceamento\n",
    "ax = sns.countplot(x='risco', data=df)"
   ]
  },
  {
   "cell_type": "code",
   "execution_count": null,
   "id": "6162c43c",
   "metadata": {},
   "outputs": [],
   "source": [
    "#analisando multicolinearidade das features\n",
    "\n",
    "correlation_matrix = X.corr()\n",
    "\n",
    "# Visualizar a matriz de correlação\n",
    "plt.figure(figsize=(10, 8))\n",
    "sns.heatmap(correlation_matrix, annot=True, cmap='coolwarm', fmt='.2f')\n",
    "plt.title('Matriz de Correlação')\n",
    "plt.show()"
   ]
  },
  {
   "cell_type": "code",
   "execution_count": null,
   "id": "b1c7c177",
   "metadata": {},
   "outputs": [],
   "source": [
    "#criando 'faixa_idade' para variavel 'idade'\n",
    "\n",
    "## 18 - 30 = 1\n",
    "## 31 - 40 = 2\n",
    "## 41 - 50 = 3\n",
    "## 51 - 60 = 4\n",
    "## 61 - 70 = 5\n",
    "## 71 - 80 = 6\n",
    "\n",
    "df['faixa_idade'] = pd.cut(x = df['idade'], bins=[18, 30, 40, 50, 60, 70, 80], labels = [1, 2, 3, 4, 5, 6])"
   ]
  },
  {
   "cell_type": "code",
   "execution_count": null,
   "id": "3625fe26",
   "metadata": {},
   "outputs": [],
   "source": [
    "#criando 'faixa_duração' para variavel 'duração'\n",
    "\n",
    "## 01 - 12 = 1\n",
    "## 13 - 24 = 2\n",
    "## 25 - 36 = 3\n",
    "## 37 - 48 = 4\n",
    "## 49 - 60 = 5\n",
    "## 61 - 72 = 6\n",
    "\n",
    "df['faixa_duração'] = pd.cut(x = df['duração'], bins=[1, 12, 24, 36, 48, 60, 72], labels = [1, 2, 3, 4, 5, 6])"
   ]
  },
  {
   "cell_type": "code",
   "execution_count": null,
   "id": "754dcce8",
   "metadata": {},
   "outputs": [],
   "source": [
    "#criando 'faixa_montante_de_crédito' para variavel 'montante_de_crédito'\n",
    "\n",
    "## 1 - 1000 = 1\n",
    "## 1001 - 2000 = 2\n",
    "## 2001 - 3000 = 3\n",
    "## 3001 - 4000 = 4\n",
    "## 4001 - 5000 = 5\n",
    "## 5001 - 6000 = 6\n",
    "## 6001 - 7000 = 7\n",
    "## 7001 - 8000 = 8\n",
    "## 8001 - 9000 = 9\n",
    "## 9001 - 10000 = 10\n",
    "## 10001 - 11000 = 11\n",
    "## 11001 - 12000 = 12\n",
    "## 12001 - 13000 = 13\n",
    "## 13001 - 14000 = 14\n",
    "## 14001 - 15000 = 15\n",
    "## 15001 - 16000 = 16\n",
    "## 16001 - 17000 = 17\n",
    "## 17001 - 18000 = 18\n",
    "## 18001 - 19000 = 19\n",
    "\n",
    "df['faixa_montante_de_crédito'] = pd.cut(x = df['montante_de_crédito'], bins=[1, 1000, 2000, 3000, 4000, 5000, 6000, 7000, 8000, 9000, 10000, 11000, 12000, 13000, 14000, 15000, 16000, 17000, 18000, 19000], \n",
    "                                         labels = [1, 2, 3, 4, 5, 6, 7, 8, 9, 10, 11, 12, 13, 14, 15, 16, 17, 18, 19])"
   ]
  },
  {
   "cell_type": "code",
   "execution_count": null,
   "id": "023f7715",
   "metadata": {},
   "outputs": [],
   "source": [
    "#funcao para retirar colunas da base de dados\n",
    "\n",
    "colunas_retiradas = ['idade', 'duração', 'montante_de_crédito']\n",
    "df = df.drop(columns=colunas_retiradas)\n",
    "df"
   ]
  },
  {
   "cell_type": "code",
   "execution_count": null,
   "id": "29a6248d",
   "metadata": {},
   "outputs": [],
   "source": [
    "#dividir os dados em variável target (y) e características (x) após criar as faixas \n",
    "\n",
    "X = df.drop('risco', axis = 1)\n",
    "y = df['risco']"
   ]
  },
  {
   "cell_type": "code",
   "execution_count": null,
   "id": "e95c17c1",
   "metadata": {},
   "outputs": [],
   "source": [
    "# divisão dos dados em teino e teste\n",
    "from sklearn.model_selection import train_test_split\n",
    "\n",
    "X_treino, X_teste, y_treino, y_teste = train_test_split(X, y, test_size=0.3, random_state=123)"
   ]
  },
  {
   "cell_type": "markdown",
   "id": "35ded858",
   "metadata": {},
   "source": [
    "## Modelo Regressão Logística"
   ]
  },
  {
   "cell_type": "markdown",
   "id": "e5944b4f",
   "metadata": {},
   "source": [
    "https://scikit-learn.org/stable/modules/linear_model.html#logistic-regression\n",
    "\n",
    "- O modelo de regressão logística caracteriza-se por descrever a relação entre várias variáveis independentes (X) e uma variável dependente (Y), representando a presença (1) ou ausência (0) de uma característica.\n",
    "\n",
    "- O risco de crédito é geralmente um problema de classificação binária, onde o objetivo é prever se um cliente será um \"bom\" ou \"mau\" pagador. A regressão logística é especificamente projetada para lidar com tais problemas de classificação binária.\n",
    "\n",
    "- Os coeficientes da regressão logística podem ser interpretados como a mudança logarítmica na probabilidade de inadimplência associada a uma unidade de aumento em uma variável preditora.\n",
    "\n",
    "- A Regressão Logística é baseada em uma base estatística sólida, sendo uma escolha tradicional para problemas de classificação binária, como a decisão entre conceder ou não crédito. Sua eficácia é amplamente comprovada em diversas aplicações de risco de crédito.\n",
    "\n",
    "- A simplicidade e a interpretabilidade da regressão logística a tornam mais compatível com regulamentos que exigem explicações claras sobre a decisão de crédito.\n",
    "-----"
   ]
  },
  {
   "attachments": {
    "image.png": {
     "image/png": "[encoded data removed]"
    }
   },
   "cell_type": "markdown",
   "id": "24693e3f",
   "metadata": {},
   "source": [
    "Função Sigmóide (Logística):\n",
    "![image.png](attachment:image.png)\n",
    "Em que:\n",
    "\n",
    "- P(Y=1|X) é a probabilidade condicional de Y ser 1, dado o conjunto de variáveis independentes X.\n",
    "- e é a base do logaritmo natural (aproximadamente 2,71828)."
   ]
  },
  {
   "attachments": {
    "image.png": {
     "image/png": "[encoded data removed]"
    }
   },
   "cell_type": "markdown",
   "id": "08b5cf4d",
   "metadata": {},
   "source": [
    "Equação Linear de Entrada:\n",
    "![image.png](attachment:image.png)"
   ]
  },
  {
   "attachments": {
    "image.png": {
     "image/png": "[encoded data removed]"
    }
   },
   "cell_type": "markdown",
   "id": "3d805871",
   "metadata": {},
   "source": [
    "Probabilidade da Classe Alternativa:\n",
    "![image.png](attachment:image.png)"
   ]
  },
  {
   "cell_type": "code",
   "execution_count": null,
   "id": "10728fae",
   "metadata": {},
   "outputs": [],
   "source": [
    "#importar as bibliotecas para a modelagem, otimização de parâmetros e avaliação de desempenho dos modelos\n",
    "from sklearn.linear_model import LogisticRegression\n",
    "from sklearn.tree import DecisionTreeClassifier\n",
    "from sklearn.ensemble import RandomForestClassifier\n",
    "from sklearn.model_selection import GridSearchCV\n",
    "from sklearn.metrics import confusion_matrix, classification_report, ConfusionMatrixDisplay, roc_curve, roc_auc_score"
   ]
  },
  {
   "cell_type": "code",
   "execution_count": null,
   "id": "7fec39b5",
   "metadata": {},
   "outputs": [],
   "source": [
    "# Definir o modelo\n",
    "lr = LogisticRegression(random_state=123)\n",
    "\n",
    "# Definir a grade de parâmetros para max_iter\n",
    "param_grid = {'max_iter': [100, 200, 500, 1000]}\n",
    "\n",
    "# Realizar a busca em grade para encontrar o melhor parâmetro max_iter\n",
    "grid_search = GridSearchCV(estimator=lr, param_grid=param_grid, cv=5, scoring='precision')\n",
    "grid_search.fit(X_treino, y_treino)\n",
    "\n",
    "# Obter o melhor valor para max_iter\n",
    "best_max_iter = grid_search.best_params_['max_iter']\n",
    "print(f\"Melhor valor para max_iter: {best_max_iter}\")\n",
    "\n",
    "# Avaliar o modelo com o melhor parâmetro max_iter\n",
    "best_model_lr = grid_search.best_estimator_\n",
    "predito_lr = best_model_lr.predict(X_teste)\n",
    "\n",
    "#curva roc\n",
    "prob_previsao = best_model_lr.predict_proba(X_teste)[:,1]\n",
    "tfp, tvp, limite = roc_curve(y_teste, prob_previsao)\n",
    "\n",
    "# Avaliando o desempenho do modelo\n",
    "print(classification_report(y_teste, predito_lr))\n",
    "print('roc_auc', roc_auc_score(y_teste, prob_previsao))\n",
    "\n",
    "#matriz de confusão\n",
    "cm = confusion_matrix(y_teste, predito_lr)\n",
    "disp = ConfusionMatrixDisplay(confusion_matrix=cm)\n",
    "disp.plot()\n",
    "\n",
    "#plotando a curva roc\n",
    "plt.subplots(1, figsize=(5,5))\n",
    "plt.title('Curva ROC')\n",
    "plt.plot(tfp,tvp)\n",
    "plt.xlabel('Especifidade')\n",
    "plt.ylabel('Sensibilidade')\n",
    "plt.plot([0, 1], ls=\"--\", c = 'red') #plotando linha guia pontilhada vermelha\n",
    "plt.plot([0, 0], [1, 0], ls=\"--\", c = 'green'), plt.plot([1, 1], ls=\"--\", c = 'green') #plotando linha guia pontilhada verde\n",
    "plt.show()"
   ]
  },
  {
   "cell_type": "code",
   "execution_count": null,
   "id": "310c87a7",
   "metadata": {},
   "outputs": [],
   "source": [
    "# entender o impacto de cada característica na probabilidade de classificação de risco 1 (bom pagador)\n",
    "\n",
    "# Extrair os coeficientes\n",
    "coefficients = best_model_lr.coef_[0]\n",
    "\n",
    "# Calcular as razões de chances\n",
    "odds_ratios = np.exp(coefficients)\n",
    "\n",
    "# Organizar os resultados em um DataFrame para visualização\n",
    "feature_names = X_treino.columns\n",
    "odds_ratios_df = pd.DataFrame({'Feature': feature_names, 'Odds Ratio': odds_ratios})\n",
    "odds_ratios_df.sort_values(by='Odds Ratio', ascending=False, inplace=True)\n",
    "\n",
    "# Exibir os resultados\n",
    "print(odds_ratios_df)"
   ]
  },
  {
   "cell_type": "markdown",
   "id": "b3ba0d62",
   "metadata": {},
   "source": [
    "- A finalidade do crédito é um fator determinante para prever o comportamento de pagamento. Clientes que pedem crédito para fins como rádio/TV, móveis/equipamentos e negócios têm maior probabilidade de pagar pontualmente.\n",
    "- Com relação à situação de moradia, proprietários de imóveis têm uma maior probabilidade de serem bons pagadores comparados a inquilinos, indicando que a estabilidade residencial é um fator positivo para o pagamento pontual.\n",
    "- Características como ter uma poupança, estar empregado e possuir uma conta corrente estão associadas a uma maior probabilidade de ser um bom pagador, embora o impacto seja menor comparado às finalidades do empréstimo.\n",
    "- Créditos com maior duração estão associados a um maior risco de não pagamento, sugerindo que empréstimos de curto prazo podem ser mais seguros."
   ]
  },
  {
   "cell_type": "markdown",
   "id": "5bce79a9",
   "metadata": {},
   "source": [
    "## Modelo Árvores de Decisão"
   ]
  },
  {
   "cell_type": "markdown",
   "id": "c01d3ec4",
   "metadata": {},
   "source": [
    "- Árvore de Decisão é uma técnica de machine learning usada para classificação e regressão, que divide os dados em subconjuntos baseados nos valores de suas variáveis preditoras, criando uma estrutura em forma de árvore onde cada nó representa uma decisão baseada em uma característica dos dados. Cada ramo representa o resultado de uma decisão, levando a nós folha que indicam as classes ou valores finais de predição.\n",
    "\n",
    "- As Árvores de Decisão são capazes de capturar interações complexas entre variáveis preditoras sem a necessidade de especificá-las explicitamente. Isso é particularmente útil em cenários de risco de crédito, onde a interação entre várias características pode ser crucial para determinar o risco de inadimplência.\n",
    "\n",
    "- Assim como a Regressão Logística, as Árvores de Decisão são fáceis de interpretar e visualizar, o que facilita a comunicação dos resultados para stakeholders e permite uma auditoria clara das decisões\n",
    "\n",
    "- Árvores de Decisão são robustas a outliers e não pressupõem linearidade nas relações entre as variáveis, sendo adequadas para captar padrões complexos nos dados.\n",
    "----------"
   ]
  },
  {
   "attachments": {
    "image.png": {
     "image/png": "[encoded data removed]"
    }
   },
   "cell_type": "markdown",
   "id": "e1010cb1",
   "metadata": {},
   "source": [
    "![image.png](attachment:image.png)"
   ]
  },
  {
   "cell_type": "code",
   "execution_count": null,
   "id": "58d3e5a4",
   "metadata": {},
   "outputs": [],
   "source": [
    "# Definir o modelo\n",
    "dt = DecisionTreeClassifier(random_state=42)\n",
    "\n",
    "# Definir a grade de parâmetros corrigida\n",
    "param_grid = {\n",
    "    'max_depth': [3, 5, 7, 10],\n",
    "    'min_samples_split': [2, 5, 10, 20],\n",
    "    'min_samples_leaf': [1, 2, 5, 10],\n",
    "    'criterion': ['gini', 'entropy'],\n",
    "    'splitter': ['best', 'random'],\n",
    "}\n",
    "\n",
    "# Definir o grid search\n",
    "grid_search = GridSearchCV(estimator=dt, param_grid=param_grid, cv=5, scoring='precision', n_jobs=-1)\n",
    "\n",
    "# Ajustar o modelo\n",
    "grid_search.fit(X_treino, y_treino)\n",
    "\n",
    "# Obter os melhores parâmetros\n",
    "best_params = grid_search.best_params_\n",
    "\n",
    "# Exibir os melhores parâmetros\n",
    "print(f\"Melhores parâmetros: {best_params}\")\n",
    "\n",
    "# Avaliar o modelo com os melhores parâmetros\n",
    "best_model_dt = grid_search.best_estimator_\n",
    "predito_dt = best_model_dt.predict(X_teste)\n",
    "\n",
    "#matriz de confusão\n",
    "cm = confusion_matrix(y_teste, predito_dt)\n",
    "disp = ConfusionMatrixDisplay(confusion_matrix=cm)\n",
    "disp.plot()\n",
    "\n",
    "#curva roc\n",
    "prob_previsao = best_model_dt.predict_proba(X_teste)[:,1]\n",
    "tfp, tvp, limite = roc_curve(y_teste, prob_previsao)\n",
    "\n",
    "# Avaliando o desempenho do modelo\n",
    "print(classification_report(y_teste, predito_dt))\n",
    "print('roc_auc', roc_auc_score(y_teste, prob_previsao))\n",
    "\n",
    "plt.subplots(1, figsize=(5,5))\n",
    "plt.title('Curva ROC')\n",
    "plt.plot(tfp,tvp)\n",
    "plt.xlabel('Especifidade')\n",
    "plt.ylabel('Sensibilidade')\n",
    "plt.plot([0, 1], ls=\"--\", c = 'red') #plotando linha guia pontilhada vermelha\n",
    "plt.plot([0, 0], [1, 0], ls=\"--\", c = 'green'), plt.plot([1, 1], ls=\"--\", c = 'green') #plotando linha guia pontilhada verde\n",
    "plt.show()"
   ]
  },
  {
   "cell_type": "markdown",
   "id": "0408ee98",
   "metadata": {},
   "source": [
    "## Modelo Random Forest"
   ]
  },
  {
   "cell_type": "markdown",
   "id": "19df3fc7",
   "metadata": {},
   "source": [
    "- As Florestas Aleatórias combinam múltiplas Árvores de Decisão, cada uma construída a partir de diferentes subconjuntos do conjunto de dados, o que reduz significativamente o risco de overfitting em comparação com uma única árvore. Isso resulta em um modelo mais robusto e generalizável.\n",
    "\n",
    "- Florestas Aleatórias são eficazes em lidar com conjuntos de dados grandes e complexos, com muitas variáveis preditoras e interações. Isso é ideal para cenários de crédito, onde a quantidade de dados pode ser volumosa e as interações entre as variáveis são complexas.\n",
    "\n",
    "- Esse modelo oferece uma medida de importância das variáveis, que ajuda a identificar quais atributos são mais relevantes para a predição do risco de crédito, fornecendo insights valiosos para o negócio.\n",
    "\n",
    "- Como as decisões são tomadas por consenso de várias árvores, o modelo é menos sensível a outliers e variações nos dados, tornando-o mais estável.\n",
    "----------------------"
   ]
  },
  {
   "attachments": {
    "image.png": {
     "image/png": "[encoded data removed]"
    }
   },
   "cell_type": "markdown",
   "id": "e9a8e61a",
   "metadata": {},
   "source": [
    "![image.png](attachment:image.png)"
   ]
  },
  {
   "cell_type": "code",
   "execution_count": null,
   "id": "0520833f",
   "metadata": {},
   "outputs": [],
   "source": [
    "# Definir o modelo\n",
    "rf = RandomForestClassifier(random_state=42)\n",
    "\n",
    "# Definir a grade de parâmetros\n",
    "param_grid = {\n",
    "    'n_estimators': [50, 100, 200, 300],\n",
    "    'max_depth': [5, 10, 20, 25, 30],\n",
    "    'min_samples_split': [2, 5, 8, 10],\n",
    "    'min_samples_leaf': [1, 2, 4, 6],\n",
    "}\n",
    "\n",
    "# Definir o grid search com validação cruzada\n",
    "grid_search = GridSearchCV(estimator=rf, param_grid=param_grid, cv=5, scoring='precision')\n",
    "\n",
    "# Ajustar o modelo\n",
    "grid_search.fit(X_treino, y_treino)\n",
    "\n",
    "# Obter os melhores parâmetros\n",
    "best_params = grid_search.best_params_\n",
    "\n",
    "# Exibir os melhores parâmetros\n",
    "print(f\"Melhores parâmetros: {best_params}\")\n",
    "\n",
    "# Avaliar o modelo com os melhores parâmetros\n",
    "best_model_rf = grid_search.best_estimator_\n",
    "predito_rf = best_model_rf.predict(X_teste)\n",
    "\n",
    "#matriz de confusão\n",
    "cm = confusion_matrix(y_teste, predito_rf)\n",
    "disp = ConfusionMatrixDisplay(confusion_matrix=cm)\n",
    "disp.plot()\n",
    "\n",
    "#curva roc\n",
    "prob_previsao = best_model_rf.predict_proba(X_teste)[:,1]\n",
    "tfp, tvp, limite = roc_curve(y_teste, prob_previsao)\n",
    "\n",
    "# Avaliando o desempenho do modelo\n",
    "print(classification_report(y_teste, predito_rf))\n",
    "print('roc_auc', roc_auc_score(y_teste, prob_previsao))\n",
    "\n",
    "#plotar a curva roc\n",
    "plt.subplots(1, figsize=(5,5))\n",
    "plt.title('Curva ROC')\n",
    "plt.plot(tfp,tvp)\n",
    "plt.xlabel('Especifidade')\n",
    "plt.ylabel('Sensibilidade')\n",
    "plt.plot([0, 1], ls=\"--\", c = 'red') #plotando linha guia pontilhada vermelha\n",
    "plt.plot([0, 0], [1, 0], ls=\"--\", c = 'green'), plt.plot([1, 1], ls=\"--\", c = 'green') #plotando linha guia pontilhada verde\n",
    "plt.show()"
   ]
  },
  {
   "cell_type": "markdown",
   "id": "e8a468e5",
   "metadata": {},
   "source": [
    "### Interpretação de métricas de desempenho e comparação dos modelos"
   ]
  },
  {
   "attachments": {
    "image.png": {
     "image/png": "[encoded data removed]"
    }
   },
   "cell_type": "markdown",
   "id": "3fd125f5",
   "metadata": {},
   "source": [
    "![image.png](attachment:image.png)"
   ]
  },
  {
   "cell_type": "markdown",
   "id": "d2c76bd8",
   "metadata": {},
   "source": [
    "- Analisando a área sob a curva ROC (AUC), que mede a capacidade do modelo em distinguir entre bons e maus pagadores, de forma que um AUC alto (próximo de 1) indica que o modelo tem uma boa capacidade de discriminar entre as duas classe, os modelos de Regressão Logística e Random Forest apresentaram os valores mais altos em relação à essa métrica, com uma ligeira vantagem para a regressão logística, o que indica uma boa capacidade de discriminar entre as classes.\n",
    "\n",
    "- A regressão logística possui um recall mais alto para bons pagadores (0.81), o que é importante para capturar todos os bons pagadores possíveis.\n",
    "\n",
    "- O Random Forest apresenta um equilíbrio melhor entre precisão e recall para ambas as classes, sugerindo que ele é mais robusto em termos de identificar tanto bons quanto maus pagadores.\n",
    "\n",
    "- Ambos os modelos têm desempenho semelhante na identificação de maus pagadores, mas o Random Forest tem uma leve vantagem em precisão, o que pode ser crucial para evitar concessões de crédito a maus pagadores.\n",
    "\n",
    "- Com base nessas considerações recomenda-se a implementação do modelo Random Forest para melhorar a precisão na avaliação de crédito, garantindo uma gestão mais eficiente de riscos e aumentando a confiança nas decisões de concessão de crédito.\n",
    "\n",
    "- No entanto, é sempre importante considerar os custos associados a falsos positivos e falsos negativos, e realizar testes adicionais para validar a escolha do modelo."
   ]
  },
  {
   "cell_type": "code",
   "execution_count": null,
   "id": "e33b4b3e",
   "metadata": {},
   "outputs": [],
   "source": [
    "#aplicar a técnica de Validação Cruzada Stratified K-Fold para validar o desempenho do modelo escolhido (Random Forest) em diferentes amostras\n",
    "\n",
    "from sklearn.model_selection import StratifiedKFold\n",
    "\n",
    "stratified_kfold = StratifiedKFold(n_splits=5, shuffle=True, random_state=42)\n",
    "\n",
    "# Definir o grid search com validação cruzada\n",
    "grid_search = GridSearchCV(estimator=rf, param_grid=param_grid, cv=stratified_kfold, scoring='precision')\n",
    "\n",
    "# Ajustar o modelo\n",
    "grid_search.fit(X_treino, y_treino)\n",
    "\n",
    "# Obter os melhores parâmetros\n",
    "best_params = grid_search.best_params_\n",
    "\n",
    "# Exibir os melhores parâmetros\n",
    "print(f\"Melhores parâmetros: {best_params}\")\n",
    "\n",
    "# Avaliar o modelo com os melhores parâmetros\n",
    "best_model_rf = grid_search.best_estimator_\n",
    "predito_rf = best_model_rf.predict(X_teste)\n",
    "\n",
    "# Matriz de confusão\n",
    "cm = confusion_matrix(y_teste, predito_rf)\n",
    "disp = ConfusionMatrixDisplay(confusion_matrix=cm)\n",
    "disp.plot()\n",
    "\n",
    "# Curva ROC\n",
    "prob_previsao = best_model_rf.predict_proba(X_teste)[:, 1]\n",
    "tfp, tvp, limite = roc_curve(y_teste, prob_previsao)\n",
    "\n",
    "# Avaliando o desempenho do modelo\n",
    "print(classification_report(y_teste, predito_rf))\n",
    "print('ROC AUC:', roc_auc_score(y_teste, prob_previsao))\n",
    "\n",
    "# Plotar a curva ROC\n",
    "plt.subplots(1, figsize=(5, 5))\n",
    "plt.title('Curva ROC')\n",
    "plt.plot(tfp, tvp)\n",
    "plt.xlabel('Especificidade')\n",
    "plt.ylabel('Sensibilidade')\n",
    "plt.plot([0, 1], ls=\"--\", c='red')  # Linha guia pontilhada vermelha\n",
    "plt.plot([0, 0], [1, 0], ls=\"--\", c='green'), plt.plot([1, 1], ls=\"--\", c='green')  # Linha guia pontilhada verde\n",
    "plt.show()"
   ]
  },
  {
   "cell_type": "markdown",
   "id": "d97e60e3",
   "metadata": {},
   "source": [
    "### Algumas limitações do Projeto"
   ]
  },
  {
   "cell_type": "markdown",
   "id": "d18b03cc",
   "metadata": {},
   "source": [
    "- Limitações das Variáveis: Variáveis utilizadas no modelo podem não capturar todos os aspectos relevantes do comportamento de crédito. Dados históricos podem não incluir novas tendências ou mudanças no mercado.\n",
    "- Mitigação: Realizar uma análise contínua de variáveis e incorporar novas fontes de dados, como dados alternativos ou não tradicionais (por exemplo, dados de mídias sociais, comportamentais), para melhorar a capacidade preditiva do modelo.\n",
    "------------------\n",
    "-  Mudanças no Comportamento dos Consumidores dos consumidores ou nas condições econômicas podem afetar a relevância e a eficácia dos modelos preditivos, que podem se tornar obsoletos rapidamente.\n",
    "- Mitigação: Monitorar continuamente o desempenho do modelo e realizar revisões periódicas para ajustar o modelo às novas realidades econômicas e comportamentais.\n",
    "-------------------\n",
    "- Limitações Regulatórias e Éticas: as práticas de análise de crédito devem estar em conformidade com leis e regulamentos que protegem os consumidores e garantem a equidade nas decisões de crédito.\n",
    "- Mitigação: Manter-se atualizado sobre as leis e regulamentos relevantes, como a Lei Geral de Proteção de Dados (LGPD) no Brasil, e implementar políticas de conformidade e práticas éticas rigorosas."
   ]
  }
 ],
 "metadata": {
  "kernelspec": {
   "display_name": "Python 3 (ipykernel)",
   "language": "python",
   "name": "python3"
  },
  "language_info": {
   "codemirror_mode": {
    "name": "ipython",
    "version": 3
   },
   "file_extension": ".py",
   "mimetype": "text/x-python",
   "name": "python",
   "nbconvert_exporter": "python",
   "pygments_lexer": "ipython3",
   "version": "3.11.5"
  }
 },
 "nbformat": 4,
 "nbformat_minor": 5
}
