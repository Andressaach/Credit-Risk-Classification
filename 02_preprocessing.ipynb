{
 "cells": [
  {
   "cell_type": "markdown",
   "id": "a38c3f8e",
   "metadata": {},
   "source": [
    "## Import libraries"
   ]
  },
  {
   "cell_type": "code",
   "execution_count": 1,
   "id": "497627a9",
   "metadata": {},
   "outputs": [],
   "source": [
    "import pandas as pd\n",
    "import numpy as np\n",
    "import matplotlib.pyplot as plt\n",
    "import seaborn as sns\n",
    "from sklearn.impute import SimpleImputer\n",
    "from sklearn.preprocessing import OrdinalEncoder\n",
    "from imblearn.over_sampling import SMOTE\n",
    "from sklearn.model_selection import train_test_split\n",
    "from sklearn.preprocessing import StandardScaler\n",
    "import warnings\n",
    "warnings.simplefilter(action='ignore', category=FutureWarning)"
   ]
  },
  {
   "cell_type": "markdown",
   "id": "dae5dbd4",
   "metadata": {},
   "source": [
    "## Load dataset"
   ]
  },
  {
   "cell_type": "code",
   "execution_count": 2,
   "id": "f0cf022e",
   "metadata": {},
   "outputs": [
    {
     "data": {
      "text/html": [
       "<div>\n",
       "<style scoped>\n",
       "    .dataframe tbody tr th:only-of-type {\n",
       "        vertical-align: middle;\n",
       "    }\n",
       "\n",
       "    .dataframe tbody tr th {\n",
       "        vertical-align: top;\n",
       "    }\n",
       "\n",
       "    .dataframe thead th {\n",
       "        text-align: right;\n",
       "    }\n",
       "</style>\n",
       "<table border=\"1\" class=\"dataframe\">\n",
       "  <thead>\n",
       "    <tr style=\"text-align: right;\">\n",
       "      <th></th>\n",
       "      <th>age</th>\n",
       "      <th>sex</th>\n",
       "      <th>job</th>\n",
       "      <th>housing</th>\n",
       "      <th>saving_accounts</th>\n",
       "      <th>checking_account</th>\n",
       "      <th>credit_amount</th>\n",
       "      <th>duration</th>\n",
       "      <th>purpose</th>\n",
       "      <th>risk</th>\n",
       "    </tr>\n",
       "  </thead>\n",
       "  <tbody>\n",
       "    <tr>\n",
       "      <th>0</th>\n",
       "      <td>67</td>\n",
       "      <td>male</td>\n",
       "      <td>2</td>\n",
       "      <td>own</td>\n",
       "      <td>NaN</td>\n",
       "      <td>little</td>\n",
       "      <td>1169</td>\n",
       "      <td>6</td>\n",
       "      <td>radio/TV</td>\n",
       "      <td>good</td>\n",
       "    </tr>\n",
       "    <tr>\n",
       "      <th>1</th>\n",
       "      <td>22</td>\n",
       "      <td>female</td>\n",
       "      <td>2</td>\n",
       "      <td>own</td>\n",
       "      <td>little</td>\n",
       "      <td>moderate</td>\n",
       "      <td>5951</td>\n",
       "      <td>48</td>\n",
       "      <td>radio/TV</td>\n",
       "      <td>bad</td>\n",
       "    </tr>\n",
       "    <tr>\n",
       "      <th>2</th>\n",
       "      <td>49</td>\n",
       "      <td>male</td>\n",
       "      <td>1</td>\n",
       "      <td>own</td>\n",
       "      <td>little</td>\n",
       "      <td>NaN</td>\n",
       "      <td>2096</td>\n",
       "      <td>12</td>\n",
       "      <td>education</td>\n",
       "      <td>good</td>\n",
       "    </tr>\n",
       "    <tr>\n",
       "      <th>3</th>\n",
       "      <td>45</td>\n",
       "      <td>male</td>\n",
       "      <td>2</td>\n",
       "      <td>free</td>\n",
       "      <td>little</td>\n",
       "      <td>little</td>\n",
       "      <td>7882</td>\n",
       "      <td>42</td>\n",
       "      <td>furniture/equipment</td>\n",
       "      <td>good</td>\n",
       "    </tr>\n",
       "    <tr>\n",
       "      <th>4</th>\n",
       "      <td>53</td>\n",
       "      <td>male</td>\n",
       "      <td>2</td>\n",
       "      <td>free</td>\n",
       "      <td>little</td>\n",
       "      <td>little</td>\n",
       "      <td>4870</td>\n",
       "      <td>24</td>\n",
       "      <td>car</td>\n",
       "      <td>bad</td>\n",
       "    </tr>\n",
       "  </tbody>\n",
       "</table>\n",
       "</div>"
      ],
      "text/plain": [
       "   age     sex  job housing saving_accounts checking_account  credit_amount  \\\n",
       "0   67    male    2     own             NaN           little           1169   \n",
       "1   22  female    2     own          little         moderate           5951   \n",
       "2   49    male    1     own          little              NaN           2096   \n",
       "3   45    male    2    free          little           little           7882   \n",
       "4   53    male    2    free          little           little           4870   \n",
       "\n",
       "   duration              purpose  risk  \n",
       "0         6             radio/TV  good  \n",
       "1        48             radio/TV   bad  \n",
       "2        12            education  good  \n",
       "3        42  furniture/equipment  good  \n",
       "4        24                  car   bad  "
      ]
     },
     "execution_count": 2,
     "metadata": {},
     "output_type": "execute_result"
    }
   ],
   "source": [
    "df = pd.read_csv(\"german_credit_data_processed.csv\")\n",
    "df.head()"
   ]
  },
  {
   "cell_type": "markdown",
   "id": "88b8724d",
   "metadata": {},
   "source": [
    "## Handle missing values"
   ]
  },
  {
   "cell_type": "code",
   "execution_count": 3,
   "id": "99fe88fb",
   "metadata": {},
   "outputs": [
    {
     "name": "stdout",
     "output_type": "stream",
     "text": [
      "Missing values after imputation:\n",
      " age                 0\n",
      "sex                 0\n",
      "job                 0\n",
      "housing             0\n",
      "saving_accounts     0\n",
      "checking_account    0\n",
      "credit_amount       0\n",
      "duration            0\n",
      "purpose             0\n",
      "risk                0\n",
      "dtype: int64\n"
     ]
    }
   ],
   "source": [
    "# \"most_frequent\" imputation\n",
    "imputer = SimpleImputer(strategy='most_frequent')\n",
    "df[['saving_accounts', 'checking_account']] = imputer.fit_transform(df[['saving_accounts', 'checking_account']])\n",
    "\n",
    "# Check again to confirm\n",
    "print(\"Missing values after imputation:\\n\", df.isnull().sum())"
   ]
  },
  {
   "cell_type": "markdown",
   "id": "d4fe98e9",
   "metadata": {},
   "source": [
    "## Feature Engineering"
   ]
  },
  {
   "cell_type": "code",
   "execution_count": 4,
   "id": "d60e69ba",
   "metadata": {},
   "outputs": [
    {
     "data": {
      "image/png": "[encoded data removed]",
      "text/plain": [
       "<Figure size 800x500 with 1 Axes>"
      ]
     },
     "metadata": {},
     "output_type": "display_data"
    }
   ],
   "source": [
    "# Create a new feature: average monthly credit\n",
    "df['credit_per_month'] = df['credit_amount'] / df['duration']\n",
    "\n",
    "\n",
    "# Visualize distribution by risk\n",
    "fig, ax = plt.subplots(figsize=(8, 5))\n",
    "sns.boxplot(x='risk', y='credit_per_month', data=df, ax=ax)\n",
    "ax.set_title(\"Monthly credit amount by Risk\")\n",
    "plt.show()"
   ]
  },
  {
   "cell_type": "markdown",
   "id": "63c7ffa9",
   "metadata": {},
   "source": [
    "## Binning Continuous Variables"
   ]
  },
  {
   "cell_type": "code",
   "execution_count": 5,
   "id": "6515055a",
   "metadata": {},
   "outputs": [
    {
     "name": "stdout",
     "output_type": "stream",
     "text": [
      "Shape after numeric binning: (1000, 11)\n",
      "   age_bin  duration_bin  credit_amount_bin\n",
      "0        5             1                  2\n",
      "1        1             4                  6\n",
      "2        3             1                  3\n",
      "3        3             4                  8\n",
      "4        4             2                  5\n"
     ]
    }
   ],
   "source": [
    "# Age, duration, credit bins as integers\n",
    "df['age_bin'] = pd.cut(df['age'], bins=[18, 30, 40, 50, 60, 70, 80], labels=[1,2,3,4,5,6]).astype(int)\n",
    "df['duration_bin'] = pd.cut(df['duration'], bins=[1, 12, 24, 36, 48, 60, 72], labels=[1,2,3,4,5,6]).astype(int)\n",
    "\n",
    "credit_bins = list(range(1, 20001, 1000))\n",
    "credit_labels = list(range(1, len(credit_bins)))\n",
    "df['credit_amount_bin'] = pd.cut(df['credit_amount'], bins=credit_bins, labels=credit_labels).astype(int)\n",
    "\n",
    "# Drop original continuous columns\n",
    "df.drop(['age', 'duration', 'credit_amount'], axis=1, inplace=True)\n",
    "\n",
    "print(\"Shape after numeric binning:\", df.shape)\n",
    "print(df[['age_bin','duration_bin','credit_amount_bin']].head())"
   ]
  },
  {
   "cell_type": "markdown",
   "id": "2e2bd97c",
   "metadata": {},
   "source": [
    "## Encode Categorical Variables"
   ]
  },
  {
   "cell_type": "code",
   "execution_count": 6,
   "id": "475495ee",
   "metadata": {},
   "outputs": [
    {
     "data": {
      "text/html": [
       "<div>\n",
       "<style scoped>\n",
       "    .dataframe tbody tr th:only-of-type {\n",
       "        vertical-align: middle;\n",
       "    }\n",
       "\n",
       "    .dataframe tbody tr th {\n",
       "        vertical-align: top;\n",
       "    }\n",
       "\n",
       "    .dataframe thead th {\n",
       "        text-align: right;\n",
       "    }\n",
       "</style>\n",
       "<table border=\"1\" class=\"dataframe\">\n",
       "  <thead>\n",
       "    <tr style=\"text-align: right;\">\n",
       "      <th></th>\n",
       "      <th>job</th>\n",
       "      <th>saving_accounts</th>\n",
       "      <th>checking_account</th>\n",
       "      <th>credit_per_month</th>\n",
       "      <th>age_bin</th>\n",
       "      <th>duration_bin</th>\n",
       "      <th>credit_amount_bin</th>\n",
       "      <th>risk_good</th>\n",
       "      <th>sex_male</th>\n",
       "      <th>housing_own</th>\n",
       "      <th>housing_rent</th>\n",
       "      <th>purpose_car</th>\n",
       "      <th>purpose_domestic appliances</th>\n",
       "      <th>purpose_education</th>\n",
       "      <th>purpose_furniture/equipment</th>\n",
       "      <th>purpose_radio/TV</th>\n",
       "      <th>purpose_repairs</th>\n",
       "      <th>purpose_vacation/others</th>\n",
       "    </tr>\n",
       "  </thead>\n",
       "  <tbody>\n",
       "    <tr>\n",
       "      <th>0</th>\n",
       "      <td>2</td>\n",
       "      <td>0.0</td>\n",
       "      <td>0.0</td>\n",
       "      <td>194.833333</td>\n",
       "      <td>5</td>\n",
       "      <td>1</td>\n",
       "      <td>2</td>\n",
       "      <td>True</td>\n",
       "      <td>True</td>\n",
       "      <td>True</td>\n",
       "      <td>False</td>\n",
       "      <td>False</td>\n",
       "      <td>False</td>\n",
       "      <td>False</td>\n",
       "      <td>False</td>\n",
       "      <td>True</td>\n",
       "      <td>False</td>\n",
       "      <td>False</td>\n",
       "    </tr>\n",
       "    <tr>\n",
       "      <th>1</th>\n",
       "      <td>2</td>\n",
       "      <td>0.0</td>\n",
       "      <td>1.0</td>\n",
       "      <td>123.979167</td>\n",
       "      <td>1</td>\n",
       "      <td>4</td>\n",
       "      <td>6</td>\n",
       "      <td>False</td>\n",
       "      <td>False</td>\n",
       "      <td>True</td>\n",
       "      <td>False</td>\n",
       "      <td>False</td>\n",
       "      <td>False</td>\n",
       "      <td>False</td>\n",
       "      <td>False</td>\n",
       "      <td>True</td>\n",
       "      <td>False</td>\n",
       "      <td>False</td>\n",
       "    </tr>\n",
       "    <tr>\n",
       "      <th>2</th>\n",
       "      <td>1</td>\n",
       "      <td>0.0</td>\n",
       "      <td>0.0</td>\n",
       "      <td>174.666667</td>\n",
       "      <td>3</td>\n",
       "      <td>1</td>\n",
       "      <td>3</td>\n",
       "      <td>True</td>\n",
       "      <td>True</td>\n",
       "      <td>True</td>\n",
       "      <td>False</td>\n",
       "      <td>False</td>\n",
       "      <td>False</td>\n",
       "      <td>True</td>\n",
       "      <td>False</td>\n",
       "      <td>False</td>\n",
       "      <td>False</td>\n",
       "      <td>False</td>\n",
       "    </tr>\n",
       "    <tr>\n",
       "      <th>3</th>\n",
       "      <td>2</td>\n",
       "      <td>0.0</td>\n",
       "      <td>0.0</td>\n",
       "      <td>187.666667</td>\n",
       "      <td>3</td>\n",
       "      <td>4</td>\n",
       "      <td>8</td>\n",
       "      <td>True</td>\n",
       "      <td>True</td>\n",
       "      <td>False</td>\n",
       "      <td>False</td>\n",
       "      <td>False</td>\n",
       "      <td>False</td>\n",
       "      <td>False</td>\n",
       "      <td>True</td>\n",
       "      <td>False</td>\n",
       "      <td>False</td>\n",
       "      <td>False</td>\n",
       "    </tr>\n",
       "    <tr>\n",
       "      <th>4</th>\n",
       "      <td>2</td>\n",
       "      <td>0.0</td>\n",
       "      <td>0.0</td>\n",
       "      <td>202.916667</td>\n",
       "      <td>4</td>\n",
       "      <td>2</td>\n",
       "      <td>5</td>\n",
       "      <td>False</td>\n",
       "      <td>True</td>\n",
       "      <td>False</td>\n",
       "      <td>False</td>\n",
       "      <td>True</td>\n",
       "      <td>False</td>\n",
       "      <td>False</td>\n",
       "      <td>False</td>\n",
       "      <td>False</td>\n",
       "      <td>False</td>\n",
       "      <td>False</td>\n",
       "    </tr>\n",
       "  </tbody>\n",
       "</table>\n",
       "</div>"
      ],
      "text/plain": [
       "   job  saving_accounts  checking_account  credit_per_month  age_bin  \\\n",
       "0    2              0.0               0.0        194.833333        5   \n",
       "1    2              0.0               1.0        123.979167        1   \n",
       "2    1              0.0               0.0        174.666667        3   \n",
       "3    2              0.0               0.0        187.666667        3   \n",
       "4    2              0.0               0.0        202.916667        4   \n",
       "\n",
       "   duration_bin  credit_amount_bin  risk_good  sex_male  housing_own  \\\n",
       "0             1                  2       True      True         True   \n",
       "1             4                  6      False     False         True   \n",
       "2             1                  3       True      True         True   \n",
       "3             4                  8       True      True        False   \n",
       "4             2                  5      False      True        False   \n",
       "\n",
       "   housing_rent  purpose_car  purpose_domestic appliances  purpose_education  \\\n",
       "0         False        False                        False              False   \n",
       "1         False        False                        False              False   \n",
       "2         False        False                        False               True   \n",
       "3         False        False                        False              False   \n",
       "4         False         True                        False              False   \n",
       "\n",
       "   purpose_furniture/equipment  purpose_radio/TV  purpose_repairs  \\\n",
       "0                        False              True            False   \n",
       "1                        False              True            False   \n",
       "2                        False             False            False   \n",
       "3                         True             False            False   \n",
       "4                        False             False            False   \n",
       "\n",
       "   purpose_vacation/others  \n",
       "0                    False  \n",
       "1                    False  \n",
       "2                    False  \n",
       "3                    False  \n",
       "4                    False  "
      ]
     },
     "execution_count": 6,
     "metadata": {},
     "output_type": "execute_result"
    }
   ],
   "source": [
    "# Ordinal encoding for features with natural order\n",
    "ordinal_features = ['saving_accounts', 'checking_account']\n",
    "ordinal_encoder = OrdinalEncoder(\n",
    "categories=[['little', 'moderate', 'quite rich', 'rich'],\n",
    "['little', 'moderate', 'rich']]\n",
    ")\n",
    "df[ordinal_features] = ordinal_encoder.fit_transform(df[ordinal_features])\n",
    "\n",
    "# One-hot encoding for nominal categorical features\n",
    "df = pd.get_dummies(df, columns=['risk','sex','housing','purpose'], drop_first=True)\n",
    "df.head()"
   ]
  },
  {
   "cell_type": "markdown",
   "id": "416a2fd0",
   "metadata": {},
   "source": [
    "## Split Features and Target"
   ]
  },
  {
   "cell_type": "code",
   "execution_count": 7,
   "id": "0097735e",
   "metadata": {},
   "outputs": [
    {
     "name": "stdout",
     "output_type": "stream",
     "text": [
      "Train shape: (700, 17)  Test shape: (300, 17)\n"
     ]
    }
   ],
   "source": [
    "X = df.drop('risk_good', axis=1)\n",
    "y = df['risk_good']\n",
    "\n",
    "\n",
    "# Train-test split\n",
    "X_train, X_test, y_train, y_test = train_test_split(\n",
    "X, y, test_size=0.3, random_state=123, stratify=y\n",
    ")\n",
    "\n",
    "print(\"Train shape:\", X_train.shape, \" Test shape:\", X_test.shape)"
   ]
  },
  {
   "cell_type": "markdown",
   "id": "2504916e",
   "metadata": {},
   "source": [
    "## Balance Classes with SMOTE"
   ]
  },
  {
   "cell_type": "code",
   "execution_count": 8,
   "id": "8fab41b3",
   "metadata": {},
   "outputs": [
    {
     "name": "stdout",
     "output_type": "stream",
     "text": [
      "Class distribution before SMOTE:\n",
      " risk_good\n",
      "True     0.7\n",
      "False    0.3\n",
      "Name: proportion, dtype: float64\n",
      "Class distribution after SMOTE:\n",
      " risk_good\n",
      "True     0.5\n",
      "False    0.5\n",
      "Name: proportion, dtype: float64\n"
     ]
    },
    {
     "data": {
      "image/png": "[encoded data removed]",
      "text/plain": [
       "<Figure size 640x480 with 1 Axes>"
      ]
     },
     "metadata": {},
     "output_type": "display_data"
    }
   ],
   "source": [
    "# Check class distribution before SMOTE\n",
    "print(\"Class distribution before SMOTE:\\n\", y_train.value_counts(normalize=True))\n",
    "\n",
    "# Apply SMOTE\n",
    "smote = SMOTE(random_state=123)\n",
    "X_train_res, y_train_res = smote.fit_resample(X_train, y_train)\n",
    "\n",
    "# Check class distribution after SMOTE\n",
    "print(\"Class distribution after SMOTE:\\n\", y_train_res.value_counts(normalize=True))\n",
    "\n",
    "# Plot balanced classes\n",
    "sns.countplot(x=y_train_res)\n",
    "plt.title(\"Balanced Class Distribution\")\n",
    "plt.show()"
   ]
  },
  {
   "cell_type": "markdown",
   "id": "912c7018",
   "metadata": {},
   "source": [
    "## Feature Scaling"
   ]
  },
  {
   "cell_type": "code",
   "execution_count": 9,
   "id": "dd888942",
   "metadata": {},
   "outputs": [],
   "source": [
    "# Standardize continuous variables\n",
    "scaler = StandardScaler()\n",
    "X_train_res_scaled = scaler.fit_transform(X_train_res)\n",
    "X_test_scaled = scaler.transform(X_test)"
   ]
  },
  {
   "cell_type": "markdown",
   "id": "f4f16101",
   "metadata": {},
   "source": [
    "## Save the datasets for modeling"
   ]
  },
  {
   "cell_type": "code",
   "execution_count": 10,
   "id": "8af41fef",
   "metadata": {},
   "outputs": [],
   "source": [
    "np.save(\"X_train_res_scaled.npy\", X_train_res_scaled)\n",
    "np.save(\"X_test_scaled.npy\", X_test_scaled)\n",
    "np.save(\"y_train_res.npy\", y_train_res)\n",
    "np.save(\"y_test.npy\", y_test)"
   ]
  }
 ],
 "metadata": {
  "kernelspec": {
   "display_name": "Python 3 (ipykernel)",
   "language": "python",
   "name": "python3"
  },
  "language_info": {
   "codemirror_mode": {
    "name": "ipython",
    "version": 3
   },
   "file_extension": ".py",
   "mimetype": "text/x-python",
   "name": "python",
   "nbconvert_exporter": "python",
   "pygments_lexer": "ipython3",
   "version": "3.11.5"
  }
 },
 "nbformat": 4,
 "nbformat_minor": 5
}
